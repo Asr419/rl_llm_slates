{
 "cells": [
  {
   "cell_type": "code",
   "execution_count": 1,
   "metadata": {},
   "outputs": [
    {
     "name": "stderr",
     "output_type": "stream",
     "text": [
      "/home/aayush/rl_mind_dataset/.venv/lib/python3.11/site-packages/tqdm/auto.py:21: TqdmWarning: IProgress not found. Please update jupyter and ipywidgets. See https://ipywidgets.readthedocs.io/en/stable/user_install.html\n",
      "  from .autonotebook import tqdm as notebook_tqdm\n"
     ]
    }
   ],
   "source": [
    "import os \n",
    "from pathlib import Path\n",
    "from dotenv import load_dotenv\n",
    "import pickle\n",
    "import pandas as pd\n",
    "import numpy as np\n",
    "import torch\n",
    "from tqdm import tqdm\n",
    "import seaborn as sns\n",
    "import matplotlib.pyplot as plt\n",
    "from scipy.stats import norm\n",
    "import matplotlib.ticker as mtick"
   ]
  },
  {
   "cell_type": "code",
   "execution_count": 2,
   "metadata": {},
   "outputs": [
    {
     "data": {
      "text/plain": [
       "True"
      ]
     },
     "execution_count": 2,
     "metadata": {},
     "output_type": "execute_result"
    }
   ],
   "source": [
    "load_dotenv()"
   ]
  },
  {
   "cell_type": "code",
   "execution_count": 3,
   "metadata": {},
   "outputs": [],
   "source": [
    "import io\n",
    "class CPU_Unpickler(pickle.Unpickler):\n",
    "    def find_class(self, module, name):\n",
    "        if module == 'torch.storage' and name == '_load_from_bytes':\n",
    "            return lambda b: torch.load(io.BytesIO(b), map_location='cpu')\n",
    "        else:\n",
    "            return super().find_class(module, name)"
   ]
  },
  {
   "cell_type": "code",
   "execution_count": 4,
   "metadata": {},
   "outputs": [],
   "source": [
    "base_path = Path.home()/Path(os.environ.get(\"TEST_PATH\"))"
   ]
  },
  {
   "cell_type": "code",
   "execution_count": 5,
   "metadata": {},
   "outputs": [],
   "source": [
    "SEEDS = [5, 42, 97, 33, 99]\n",
    "window = 100"
   ]
  },
  {
   "cell_type": "code",
   "execution_count": 6,
   "metadata": {},
   "outputs": [],
   "source": [
    "def parse_data(data_dict: dict, alg_nam:str, seed: int)->pd.DataFrame:\n",
    "    # convert from torch to float\n",
    "    for k, v in data_dict.items():\n",
    "        if isinstance(v, torch.Tensor):\n",
    "            data_dict[k] = v.item()\n",
    "        elif isinstance(v, list):\n",
    "            if isinstance(v[0], torch.Tensor):\n",
    "                data_dict[k] = [x.item() for x in v]\n",
    "    data_df = pd.DataFrame(data_dict)\n",
    "    data_df[\"alg_name\"] = alg_nam\n",
    "    data_df[\"seed\"] = seed\n",
    "    data_df = data_df.reset_index().rename(columns={\"index\": \"episode\"})\n",
    "    return data_df"
   ]
  },
  {
   "cell_type": "code",
   "execution_count": 7,
   "metadata": {},
   "outputs": [
    {
     "name": "stderr",
     "output_type": "stream",
     "text": [
      "  0%|          | 0/5 [00:00<?, ?it/s]/home/aayush/rl_mind_dataset/.venv/lib/python3.11/site-packages/torch/cuda/__init__.py:497: UserWarning: Can't initialize NVML\n",
      "  warnings.warn(\"Can't initialize NVML\")\n"
     ]
    },
    {
     "name": "stderr",
     "output_type": "stream",
     "text": [
      "100%|██████████| 5/5 [00:10<00:00,  2.09s/it]\n"
     ]
    }
   ],
   "source": [
    "res_df_list = []\n",
    "for seed in tqdm(SEEDS):\n",
    "    slateq_dict = pickle.load(open(base_path / Path(f\"slateq_generalist_{seed}\")/ \"logs_dict.pickle\", \"rb\"))\n",
    "    res_df = parse_data(slateq_dict, \"SlateQ_Gen\", seed)\n",
    "    res_df_list.append(res_df)\n",
    "# concat all results\n",
    "final_df = pd.concat(res_df_list)"
   ]
  },
  {
   "cell_type": "code",
   "execution_count": 8,
   "metadata": {},
   "outputs": [
    {
     "name": "stderr",
     "output_type": "stream",
     "text": [
      "100%|██████████| 5/5 [00:07<00:00,  1.59s/it]\n"
     ]
    }
   ],
   "source": [
    "res_df_list = []\n",
    "for seed in tqdm(SEEDS):\n",
    "    slateq_dict = pickle.load(open(base_path / Path(f\"slateq_specialist_{seed}\")/ \"logs_dict.pickle\", \"rb\"))\n",
    "    res_df = parse_data(slateq_dict, \"SlateQ_Spec\", seed)\n",
    "    res_df_list.append(res_df)\n",
    "# concat all results\n",
    "slateq_spec_df = pd.concat(res_df_list)\n",
    "final_df = pd.concat([final_df, slateq_spec_df])"
   ]
  },
  {
   "cell_type": "code",
   "execution_count": 9,
   "metadata": {},
   "outputs": [
    {
     "name": "stderr",
     "output_type": "stream",
     "text": [
      "100%|██████████| 5/5 [00:08<00:00,  1.60s/it]\n"
     ]
    }
   ],
   "source": [
    "res_df_list = []\n",
    "for seed in tqdm(SEEDS):\n",
    "    slateq_dict = pickle.load(open(base_path / Path(f\"slateq_coldstart_{seed}\")/ \"logs_dict.pickle\", \"rb\"))\n",
    "    res_df = parse_data(slateq_dict, \"SlateQ_ColdStart\", seed)\n",
    "    res_df_list.append(res_df)\n",
    "# concat all results\n",
    "slateq_cs_df = pd.concat(res_df_list)\n",
    "final_df = pd.concat([final_df, slateq_cs_df])"
   ]
  },
  {
   "cell_type": "code",
   "execution_count": 10,
   "metadata": {},
   "outputs": [
    {
     "name": "stderr",
     "output_type": "stream",
     "text": [
      "100%|██████████| 5/5 [00:07<00:00,  1.58s/it]\n"
     ]
    }
   ],
   "source": [
    "res_df_list = []\n",
    "for seed in tqdm(SEEDS):\n",
    "    slateq_dict = pickle.load(open(base_path / Path(f\"wp_slate_specialist_{seed}\")/ \"logs_dict.pickle\", \"rb\"))\n",
    "    res_df = parse_data(slateq_dict, \"SlateWP_Spec\", seed)\n",
    "    res_df_list.append(res_df)\n",
    "# concat all results\n",
    "slatewp_spec_df = pd.concat(res_df_list)\n",
    "final_df = pd.concat([final_df, slatewp_spec_df])"
   ]
  },
  {
   "cell_type": "code",
   "execution_count": 11,
   "metadata": {},
   "outputs": [
    {
     "name": "stderr",
     "output_type": "stream",
     "text": [
      "100%|██████████| 5/5 [00:00<00:00, 12.13it/s]\n"
     ]
    }
   ],
   "source": [
    "import os\n",
    "\n",
    "os.environ['CUDA_LAUNCH_BLOCKING'] = '1'\n",
    "res_df_list = []\n",
    "for seed in tqdm(SEEDS):\n",
    "    slateq_dict = CPU_Unpickler(open(base_path / Path(f\"wp_slate_generalist_{seed}\")/ \"logs_dict.pickle\", \"rb\")).load()\n",
    "    res_df = parse_data(slateq_dict, \"SlateWP_Gen\", seed)\n",
    "    res_df_list.append(res_df)\n",
    "# concat all results\n",
    "slatewp_gen_df = pd.concat(res_df_list)\n",
    "final_df = pd.concat([final_df, slatewp_gen_df])"
   ]
  },
  {
   "cell_type": "code",
   "execution_count": 12,
   "metadata": {},
   "outputs": [
    {
     "name": "stderr",
     "output_type": "stream",
     "text": [
      "100%|██████████| 5/5 [00:07<00:00,  1.58s/it]\n"
     ]
    }
   ],
   "source": [
    "res_df_list = []\n",
    "for seed in tqdm(SEEDS):\n",
    "    slateq_dict = pickle.load(open(base_path / Path(f\"wp_slate_coldstart_{seed}\")/ \"logs_dict.pickle\", \"rb\"))\n",
    "    res_df = parse_data(slateq_dict, \"SlateWP_ColdStart\", seed)\n",
    "    res_df_list.append(res_df)\n",
    "# concat all results\n",
    "slatewp_cs_df = pd.concat(res_df_list)\n",
    "final_df = pd.concat([final_df, slatewp_cs_df])"
   ]
  },
  {
   "cell_type": "code",
   "execution_count": 13,
   "metadata": {},
   "outputs": [
    {
     "name": "stderr",
     "output_type": "stream",
     "text": [
      "100%|██████████| 5/5 [00:00<00:00, 18.51it/s]\n"
     ]
    }
   ],
   "source": [
    "res_df_list = []\n",
    "for seed in tqdm(SEEDS):\n",
    "    slateq_dict = pickle.load(open(base_path / Path(f\"greedy_coldstart_{seed}\")/ \"logs_dict.pickle\", \"rb\"))\n",
    "    res_df = parse_data(slateq_dict, \"Greedy_ColdStart\", seed)\n",
    "    res_df_list.append(res_df)\n",
    "# concat all results\n",
    "greedy_cs_df = pd.concat(res_df_list)\n",
    "final_df = pd.concat([final_df, greedy_cs_df])"
   ]
  },
  {
   "cell_type": "code",
   "execution_count": 14,
   "metadata": {},
   "outputs": [
    {
     "name": "stderr",
     "output_type": "stream",
     "text": [
      "100%|██████████| 5/5 [00:00<00:00, 12.30it/s]\n"
     ]
    }
   ],
   "source": [
    "res_df_list = []\n",
    "for seed in tqdm(SEEDS):\n",
    "    slateq_dict = pickle.load(open(base_path / Path(f\"greedy_specialist_{seed}\")/ \"logs_dict.pickle\", \"rb\"))\n",
    "    res_df = parse_data(slateq_dict, \"Greedy_Spec\", seed)\n",
    "    res_df_list.append(res_df)\n",
    "# concat all results\n",
    "greedy_spec_df = pd.concat(res_df_list)\n",
    "final_df = pd.concat([final_df, greedy_spec_df])"
   ]
  },
  {
   "cell_type": "code",
   "execution_count": 15,
   "metadata": {},
   "outputs": [
    {
     "name": "stderr",
     "output_type": "stream",
     "text": [
      "100%|██████████| 5/5 [00:00<00:00, 18.29it/s]\n"
     ]
    }
   ],
   "source": [
    "res_df_list = []\n",
    "for seed in tqdm(SEEDS):\n",
    "    slateq_dict = pickle.load(open(base_path / Path(f\"greedy_generalist_{seed}\")/ \"logs_dict.pickle\", \"rb\"))\n",
    "    res_df = parse_data(slateq_dict, \"Greedy_Gen\", seed)\n",
    "    res_df_list.append(res_df)\n",
    "# concat all results\n",
    "greedy_gen_df = pd.concat(res_df_list)\n",
    "final_df = pd.concat([final_df, greedy_gen_df])"
   ]
  },
  {
   "cell_type": "code",
   "execution_count": 16,
   "metadata": {},
   "outputs": [
    {
     "name": "stderr",
     "output_type": "stream",
     "text": [
      "100%|██████████| 5/5 [00:00<00:00, 13.31it/s]\n"
     ]
    }
   ],
   "source": [
    "import os\n",
    "\n",
    "os.environ['CUDA_LAUNCH_BLOCKING'] = '1'\n",
    "res_df_list = []\n",
    "for seed in tqdm(SEEDS):\n",
    "    slateq_dict = CPU_Unpickler(open(base_path / Path(f\"random_generalist_{seed}\")/ \"logs_dict.pickle\", \"rb\")).load()\n",
    "    res_df = parse_data(slateq_dict, \"Random_Gen\", seed)\n",
    "    res_df_list.append(res_df)\n",
    "# concat all results\n",
    "random_gen_df = pd.concat(res_df_list)\n",
    "final_df = pd.concat([final_df, random_gen_df])"
   ]
  },
  {
   "cell_type": "code",
   "execution_count": 17,
   "metadata": {},
   "outputs": [
    {
     "name": "stderr",
     "output_type": "stream",
     "text": [
      "100%|██████████| 5/5 [00:00<00:00, 18.13it/s]\n"
     ]
    }
   ],
   "source": [
    "import os\n",
    "\n",
    "os.environ['CUDA_LAUNCH_BLOCKING'] = '1'\n",
    "res_df_list = []\n",
    "for seed in tqdm(SEEDS):\n",
    "    slateq_dict = CPU_Unpickler(open(base_path / Path(f\"random_specialist_{seed}\")/ \"logs_dict.pickle\", \"rb\")).load()\n",
    "    res_df = parse_data(slateq_dict, \"Random_Spec\", seed)\n",
    "    res_df_list.append(res_df)\n",
    "# concat all results\n",
    "random_spec_df = pd.concat(res_df_list)\n",
    "final_df = pd.concat([final_df, random_spec_df])"
   ]
  },
  {
   "cell_type": "code",
   "execution_count": 18,
   "metadata": {},
   "outputs": [
    {
     "name": "stderr",
     "output_type": "stream",
     "text": [
      "100%|██████████| 5/5 [00:00<00:00, 18.13it/s]\n"
     ]
    }
   ],
   "source": [
    "\n",
    "res_df_list = []\n",
    "for seed in tqdm(SEEDS):\n",
    "    slateq_dict = CPU_Unpickler(open(base_path / Path(f\"random_coldstart_{seed}\")/ \"logs_dict.pickle\", \"rb\")).load()\n",
    "    res_df = parse_data(slateq_dict, \"Random_ColdStart\", seed)\n",
    "    res_df_list.append(res_df)\n",
    "# concat all results\n",
    "random_cs_df = pd.concat(res_df_list)\n",
    "final_df = pd.concat([final_df, random_cs_df])"
   ]
  },
  {
   "cell_type": "code",
   "execution_count": 19,
   "metadata": {},
   "outputs": [
    {
     "name": "stderr",
     "output_type": "stream",
     "text": [
      "100%|██████████| 5/5 [00:08<00:00,  1.62s/it]\n"
     ]
    }
   ],
   "source": [
    "res_df_list = []\n",
    "for seed in tqdm(SEEDS):\n",
    "    slateq_dict = pickle.load(open(base_path / Path(f\"knn_state_coldstart_{seed}\")/ \"logs_dict.pickle\", \"rb\"))\n",
    "    res_df = parse_data(slateq_dict, \"KNN_State_ColdStart\", seed)\n",
    "    res_df_list.append(res_df)\n",
    "# concat all results\n",
    "knn_cs_df = pd.concat(res_df_list)\n",
    "final_df = pd.concat([final_df, knn_cs_df])"
   ]
  },
  {
   "cell_type": "code",
   "execution_count": 20,
   "metadata": {},
   "outputs": [
    {
     "name": "stderr",
     "output_type": "stream",
     "text": [
      "100%|██████████| 5/5 [00:00<00:00, 18.13it/s]\n"
     ]
    }
   ],
   "source": [
    "res_df_list = []\n",
    "for seed in tqdm(SEEDS):\n",
    "    slateq_dict = CPU_Unpickler(open(base_path / Path(f\"knn_state_generalist_{seed}\")/ \"logs_dict.pickle\", \"rb\")).load()\n",
    "    res_df = parse_data(slateq_dict, \"KNN_State_Gen\", seed)\n",
    "    res_df_list.append(res_df)\n",
    "# concat all results\n",
    "knn_gen_df = pd.concat(res_df_list)\n",
    "final_df = pd.concat([final_df, knn_gen_df])"
   ]
  },
  {
   "cell_type": "code",
   "execution_count": 21,
   "metadata": {},
   "outputs": [
    {
     "name": "stderr",
     "output_type": "stream",
     "text": [
      "100%|██████████| 5/5 [00:00<00:00, 18.15it/s]\n"
     ]
    }
   ],
   "source": [
    "res_df_list = []\n",
    "for seed in tqdm(SEEDS):\n",
    "    slateq_dict = CPU_Unpickler(open(base_path / Path(f\"knn_state_specialist_{seed}\")/ \"logs_dict.pickle\", \"rb\")).load()\n",
    "    res_df = parse_data(slateq_dict, \"KNN_State_Spec\", seed)\n",
    "    res_df_list.append(res_df)\n",
    "# concat all results\n",
    "knn_spec_df = pd.concat(res_df_list)\n",
    "final_df = pd.concat([final_df, knn_spec_df])"
   ]
  },
  {
   "cell_type": "code",
   "execution_count": 22,
   "metadata": {},
   "outputs": [
    {
     "name": "stderr",
     "output_type": "stream",
     "text": [
      "100%|██████████| 5/5 [00:00<00:00, 12.76it/s]\n"
     ]
    }
   ],
   "source": [
    "res_df_list = []\n",
    "for seed in tqdm(SEEDS):\n",
    "    slateq_dict = pickle.load(open(base_path / Path(f\"random_slateq_coldstart_{seed}\")/ \"logs_dict.pickle\", \"rb\"))\n",
    "    res_df = parse_data(slateq_dict, \"Random_Slateq_ColdStart\", seed)\n",
    "    res_df_list.append(res_df)\n",
    "# concat all results\n",
    "random_slateq_cs_df = pd.concat(res_df_list)\n",
    "final_df = pd.concat([final_df, random_slateq_cs_df])"
   ]
  },
  {
   "cell_type": "code",
   "execution_count": 23,
   "metadata": {},
   "outputs": [
    {
     "name": "stderr",
     "output_type": "stream",
     "text": [
      "100%|██████████| 5/5 [00:00<00:00, 18.27it/s]\n"
     ]
    }
   ],
   "source": [
    "res_df_list = []\n",
    "for seed in tqdm(SEEDS):\n",
    "    slateq_dict = pickle.load(open(base_path / Path(f\"random_slateq_generalist_{seed}\")/ \"logs_dict.pickle\", \"rb\"))\n",
    "    res_df = parse_data(slateq_dict, \"Random_Slateq_Gen\", seed)\n",
    "    res_df_list.append(res_df)\n",
    "# concat all results\n",
    "random_slateq_gen_df = pd.concat(res_df_list)\n",
    "final_df = pd.concat([final_df, random_slateq_gen_df])"
   ]
  },
  {
   "cell_type": "code",
   "execution_count": 24,
   "metadata": {},
   "outputs": [
    {
     "name": "stderr",
     "output_type": "stream",
     "text": [
      "100%|██████████| 5/5 [00:00<00:00, 13.32it/s]\n"
     ]
    }
   ],
   "source": [
    "res_df_list = []\n",
    "for seed in tqdm(SEEDS):\n",
    "    slateq_dict = pickle.load(open(base_path / Path(f\"random_slateq_specialist_{seed}\")/ \"logs_dict.pickle\", \"rb\"))\n",
    "    res_df = parse_data(slateq_dict, \"Random_Slateq_Spec\", seed)\n",
    "    res_df_list.append(res_df)\n",
    "# concat all results\n",
    "random_slateq_spec_df = pd.concat(res_df_list)\n",
    "final_df = pd.concat([final_df, random_slateq_spec_df])"
   ]
  },
  {
   "cell_type": "code",
   "execution_count": 25,
   "metadata": {},
   "outputs": [
    {
     "data": {
      "text/html": [
       "<div>\n",
       "<style scoped>\n",
       "    .dataframe tbody tr th:only-of-type {\n",
       "        vertical-align: middle;\n",
       "    }\n",
       "\n",
       "    .dataframe tbody tr th {\n",
       "        vertical-align: top;\n",
       "    }\n",
       "\n",
       "    .dataframe thead th {\n",
       "        text-align: right;\n",
       "    }\n",
       "</style>\n",
       "<table border=\"1\" class=\"dataframe\">\n",
       "  <thead>\n",
       "    <tr style=\"text-align: right;\">\n",
       "      <th></th>\n",
       "      <th>episode</th>\n",
       "      <th>hit_documents</th>\n",
       "      <th>ep_cum_satisfaction</th>\n",
       "      <th>ep_avg_satisfaction</th>\n",
       "      <th>diverse_score</th>\n",
       "      <th>user_satisfaction</th>\n",
       "      <th>relevance</th>\n",
       "      <th>alg_name</th>\n",
       "      <th>seed</th>\n",
       "    </tr>\n",
       "  </thead>\n",
       "  <tbody>\n",
       "    <tr>\n",
       "      <th>0</th>\n",
       "      <td>0</td>\n",
       "      <td>0.000000</td>\n",
       "      <td>0.923530</td>\n",
       "      <td>0.461765</td>\n",
       "      <td>6</td>\n",
       "      <td>0.815647</td>\n",
       "      <td>0.748012</td>\n",
       "      <td>SlateQ_Gen</td>\n",
       "      <td>5</td>\n",
       "    </tr>\n",
       "    <tr>\n",
       "      <th>1</th>\n",
       "      <td>1</td>\n",
       "      <td>0.000000</td>\n",
       "      <td>0.782511</td>\n",
       "      <td>0.260837</td>\n",
       "      <td>7</td>\n",
       "      <td>0.970378</td>\n",
       "      <td>0.948471</td>\n",
       "      <td>SlateQ_Gen</td>\n",
       "      <td>5</td>\n",
       "    </tr>\n",
       "    <tr>\n",
       "      <th>2</th>\n",
       "      <td>2</td>\n",
       "      <td>0.000000</td>\n",
       "      <td>1.326244</td>\n",
       "      <td>0.331561</td>\n",
       "      <td>8</td>\n",
       "      <td>0.578357</td>\n",
       "      <td>0.579343</td>\n",
       "      <td>SlateQ_Gen</td>\n",
       "      <td>5</td>\n",
       "    </tr>\n",
       "    <tr>\n",
       "      <th>3</th>\n",
       "      <td>3</td>\n",
       "      <td>0.333333</td>\n",
       "      <td>0.887048</td>\n",
       "      <td>0.295683</td>\n",
       "      <td>6</td>\n",
       "      <td>0.992782</td>\n",
       "      <td>1.000000</td>\n",
       "      <td>SlateQ_Gen</td>\n",
       "      <td>5</td>\n",
       "    </tr>\n",
       "    <tr>\n",
       "      <th>4</th>\n",
       "      <td>4</td>\n",
       "      <td>0.000000</td>\n",
       "      <td>0.499515</td>\n",
       "      <td>0.249757</td>\n",
       "      <td>7</td>\n",
       "      <td>0.905194</td>\n",
       "      <td>0.901347</td>\n",
       "      <td>SlateQ_Gen</td>\n",
       "      <td>5</td>\n",
       "    </tr>\n",
       "    <tr>\n",
       "      <th>...</th>\n",
       "      <td>...</td>\n",
       "      <td>...</td>\n",
       "      <td>...</td>\n",
       "      <td>...</td>\n",
       "      <td>...</td>\n",
       "      <td>...</td>\n",
       "      <td>...</td>\n",
       "      <td>...</td>\n",
       "      <td>...</td>\n",
       "    </tr>\n",
       "    <tr>\n",
       "      <th>295</th>\n",
       "      <td>295</td>\n",
       "      <td>0.000000</td>\n",
       "      <td>0.551647</td>\n",
       "      <td>0.551647</td>\n",
       "      <td>6</td>\n",
       "      <td>0.842924</td>\n",
       "      <td>0.842924</td>\n",
       "      <td>Random_Slateq_Spec</td>\n",
       "      <td>99</td>\n",
       "    </tr>\n",
       "    <tr>\n",
       "      <th>296</th>\n",
       "      <td>296</td>\n",
       "      <td>0.333333</td>\n",
       "      <td>1.693517</td>\n",
       "      <td>0.564506</td>\n",
       "      <td>5</td>\n",
       "      <td>0.961884</td>\n",
       "      <td>1.000000</td>\n",
       "      <td>Random_Slateq_Spec</td>\n",
       "      <td>99</td>\n",
       "    </tr>\n",
       "    <tr>\n",
       "      <th>297</th>\n",
       "      <td>297</td>\n",
       "      <td>0.000000</td>\n",
       "      <td>1.277138</td>\n",
       "      <td>0.638569</td>\n",
       "      <td>6</td>\n",
       "      <td>0.844704</td>\n",
       "      <td>0.826997</td>\n",
       "      <td>Random_Slateq_Spec</td>\n",
       "      <td>99</td>\n",
       "    </tr>\n",
       "    <tr>\n",
       "      <th>298</th>\n",
       "      <td>298</td>\n",
       "      <td>0.000000</td>\n",
       "      <td>1.061631</td>\n",
       "      <td>0.530815</td>\n",
       "      <td>7</td>\n",
       "      <td>0.953088</td>\n",
       "      <td>0.954769</td>\n",
       "      <td>Random_Slateq_Spec</td>\n",
       "      <td>99</td>\n",
       "    </tr>\n",
       "    <tr>\n",
       "      <th>299</th>\n",
       "      <td>299</td>\n",
       "      <td>0.000000</td>\n",
       "      <td>1.762033</td>\n",
       "      <td>0.587344</td>\n",
       "      <td>7</td>\n",
       "      <td>0.963311</td>\n",
       "      <td>0.969754</td>\n",
       "      <td>Random_Slateq_Spec</td>\n",
       "      <td>99</td>\n",
       "    </tr>\n",
       "  </tbody>\n",
       "</table>\n",
       "<p>27000 rows × 9 columns</p>\n",
       "</div>"
      ],
      "text/plain": [
       "     episode  hit_documents  ep_cum_satisfaction  ep_avg_satisfaction  \\\n",
       "0          0       0.000000             0.923530             0.461765   \n",
       "1          1       0.000000             0.782511             0.260837   \n",
       "2          2       0.000000             1.326244             0.331561   \n",
       "3          3       0.333333             0.887048             0.295683   \n",
       "4          4       0.000000             0.499515             0.249757   \n",
       "..       ...            ...                  ...                  ...   \n",
       "295      295       0.000000             0.551647             0.551647   \n",
       "296      296       0.333333             1.693517             0.564506   \n",
       "297      297       0.000000             1.277138             0.638569   \n",
       "298      298       0.000000             1.061631             0.530815   \n",
       "299      299       0.000000             1.762033             0.587344   \n",
       "\n",
       "     diverse_score  user_satisfaction  relevance            alg_name  seed  \n",
       "0                6           0.815647   0.748012          SlateQ_Gen     5  \n",
       "1                7           0.970378   0.948471          SlateQ_Gen     5  \n",
       "2                8           0.578357   0.579343          SlateQ_Gen     5  \n",
       "3                6           0.992782   1.000000          SlateQ_Gen     5  \n",
       "4                7           0.905194   0.901347          SlateQ_Gen     5  \n",
       "..             ...                ...        ...                 ...   ...  \n",
       "295              6           0.842924   0.842924  Random_Slateq_Spec    99  \n",
       "296              5           0.961884   1.000000  Random_Slateq_Spec    99  \n",
       "297              6           0.844704   0.826997  Random_Slateq_Spec    99  \n",
       "298              7           0.953088   0.954769  Random_Slateq_Spec    99  \n",
       "299              7           0.963311   0.969754  Random_Slateq_Spec    99  \n",
       "\n",
       "[27000 rows x 9 columns]"
      ]
     },
     "execution_count": 25,
     "metadata": {},
     "output_type": "execute_result"
    }
   ],
   "source": [
    "final_df"
   ]
  },
  {
   "cell_type": "code",
   "execution_count": 26,
   "metadata": {},
   "outputs": [],
   "source": [
    "final_df = final_df.reset_index(drop=True)"
   ]
  },
  {
   "cell_type": "code",
   "execution_count": 27,
   "metadata": {},
   "outputs": [],
   "source": [
    "final_df['diverse_score'] /= 10"
   ]
  },
  {
   "cell_type": "code",
   "execution_count": 28,
   "metadata": {},
   "outputs": [],
   "source": [
    "from scipy.stats import levene\n",
    "from scipy.stats import shapiro\n",
    "from scipy.stats import ttest_rel\n",
    "from scipy.stats import wilcoxon\n",
    "def stat_test(r1,r2):\n",
    "    print(levene(r1, r2))\n",
    "    differences = [a-b for a,b in zip(r1, r2)]\n",
    "    print(shapiro(differences))\n",
    "    print(ttest_rel(r1, r2))\n",
    "    print(wilcoxon(r1, r2))"
   ]
  },
  {
   "cell_type": "markdown",
   "metadata": {},
   "source": [
    "**AVERAGE SATISFACTION GENERALISTS**"
   ]
  },
  {
   "cell_type": "code",
   "execution_count": 29,
   "metadata": {},
   "outputs": [
    {
     "name": "stdout",
     "output_type": "stream",
     "text": [
      "===== AVG SAT GEN =====\n",
      "===== Avg_Satisfaction =====\n",
      "RandomGen 0.32887493156859027 0.005853234013571824\n",
      "slateqGen 0.35561865602588905 0.0030959157696911826\n",
      "greedyGen 0.3284749030812332 0.010159205854886427\n",
      "knnGen 0.3341606241191427 0.0014186384741497742\n",
      "slatewpGen 0.34916605462258055 0.003723806996830134\n",
      "random_slateqGen 0.3362783153094739 0.002044484391533123\n",
      "LeveneResult(statistic=0.9063845169781569, pvalue=0.36894973427026384)\n",
      "ShapiroResult(statistic=0.9884162266403835, pvalue=0.9738561959087487)\n",
      "TtestResult(statistic=-6.08263016295854, pvalue=0.0036924902217428117, df=4)\n",
      "WilcoxonResult(statistic=0.0, pvalue=0.0625)\n",
      "LeveneResult(statistic=1.548663978915369, pvalue=0.24855423678475147)\n",
      "ShapiroResult(statistic=0.9611235698153668, pvalue=0.8157850907873458)\n",
      "TtestResult(statistic=0.11207190672929966, pvalue=0.9161652903087776, df=4)\n",
      "WilcoxonResult(statistic=6.0, pvalue=0.8125)\n",
      "LeveneResult(statistic=3.415981501361039, pvalue=0.10175149367139241)\n",
      "ShapiroResult(statistic=0.923467882867942, pvalue=0.5525537500100299)\n",
      "TtestResult(statistic=-1.724307870332839, pvalue=0.1597427242812025, df=4)\n",
      "WilcoxonResult(statistic=2.0, pvalue=0.1875)\n",
      "LeveneResult(statistic=0.8943516000835623, pvalue=0.37198437831108616)\n",
      "ShapiroResult(statistic=0.9804780450345695, pvalue=0.9371603062917646)\n",
      "TtestResult(statistic=-4.286614997955938, pvalue=0.012780403277784413, df=4)\n",
      "WilcoxonResult(statistic=0.0, pvalue=0.0625)\n",
      "LeveneResult(statistic=2.397957666113371, pvalue=0.16008514416153288)\n",
      "ShapiroResult(statistic=0.938991103660973, pvalue=0.6588143087479212)\n",
      "TtestResult(statistic=-3.364819164008134, pvalue=0.028178648777531984, df=4)\n",
      "WilcoxonResult(statistic=0.0, pvalue=0.0625)\n"
     ]
    }
   ],
   "source": [
    "\n",
    "print(\"===== AVG SAT GEN =====\")\n",
    "random_return = final_df.groupby([\"alg_name\", \"seed\"]).mean()[\"ep_avg_satisfaction\"][\"Random_Gen\"].values\n",
    "slateq_return = final_df.groupby([\"alg_name\", \"seed\"]).mean()[\"ep_avg_satisfaction\"][\"SlateQ_Gen\"].values\n",
    "greedy_return = final_df.groupby([\"alg_name\", \"seed\"]).mean()[\"ep_avg_satisfaction\"][\"Greedy_Gen\"].values\n",
    "knn_state_return = final_df.groupby([\"alg_name\", \"seed\"]).mean()[\"ep_avg_satisfaction\"][\"KNN_State_Gen\"].values\n",
    "slatewp_return = final_df.groupby([\"alg_name\", \"seed\"]).mean()[\"ep_avg_satisfaction\"][\"SlateWP_Gen\"].values\n",
    "random_slateq_return = final_df.groupby([\"alg_name\", \"seed\"]).mean()[\"ep_avg_satisfaction\"][\"Random_Slateq_Gen\"].values\n",
    "print(\"===== Avg_Satisfaction =====\")\n",
    "print(\"RandomGen\",random_return.mean(), random_return.std())\n",
    "print(\"slateqGen\",slateq_return.mean(), slateq_return.std())\n",
    "print(\"greedyGen\",greedy_return.mean(), greedy_return.std())\n",
    "print(\"knnGen\",knn_state_return.mean(), knn_state_return.std())\n",
    "print(\"slatewpGen\",slatewp_return.mean(), slatewp_return.std())\n",
    "print(\"random_slateqGen\",random_slateq_return.mean(), random_slateq_return.std())\n",
    "stat_test(random_return, slateq_return)\n",
    "stat_test(random_return, greedy_return)\n",
    "stat_test(random_return, knn_state_return)\n",
    "stat_test(random_return, slatewp_return)\n",
    "stat_test(random_return, random_slateq_return)"
   ]
  },
  {
   "cell_type": "markdown",
   "metadata": {},
   "source": [
    "**HIT RATIO GENERALISTS**"
   ]
  },
  {
   "cell_type": "code",
   "execution_count": 30,
   "metadata": {},
   "outputs": [
    {
     "name": "stdout",
     "output_type": "stream",
     "text": [
      "===== HIT RATIO GEN =====\n",
      "===== Avg_Satisfaction =====\n",
      "RandomGen 0.10170098266998928 0.008119791252449866\n",
      "slateqGen 0.15747886919975282 0.012705131531934042\n",
      "greedyGen 0.12084461682538192 0.00843216457869964\n",
      "knnGen 0.08235783718029657 0.007533764722598866\n",
      "slatewpGen 0.06076453433434169 0.0031193768111913395\n",
      "random_slateqGen 0.09167844729622206 0.003274241126504869\n",
      "LeveneResult(statistic=0.14258691249993335, pvalue=0.7155438951512851)\n",
      "ShapiroResult(statistic=0.770178154615992, pvalue=0.04528005686242472)\n",
      "TtestResult(statistic=-5.945017701667561, pvalue=0.004015671831969886, df=4)\n",
      "WilcoxonResult(statistic=0.0, pvalue=0.0625)\n",
      "LeveneResult(statistic=0.006887857926109945, pvalue=0.9358960615190215)\n",
      "ShapiroResult(statistic=0.9521262636598653, pvalue=0.7523672003436188)\n",
      "TtestResult(statistic=-3.7505797579384472, pvalue=0.019937047290932385, df=4)\n",
      "WilcoxonResult(statistic=0.0, pvalue=0.0625)\n",
      "LeveneResult(statistic=0.012068213929735675, pvalue=0.9152298047641767)\n",
      "ShapiroResult(statistic=0.9074718325877575, pvalue=0.452547734075366)\n",
      "TtestResult(statistic=2.8988227444687755, pvalue=0.044170063257166506, df=4)\n",
      "WilcoxonResult(statistic=0.0, pvalue=0.0625)\n",
      "LeveneResult(statistic=1.6186958894294088, pvalue=0.239006032491971)\n",
      "ShapiroResult(statistic=0.9588207344619489, pvalue=0.7997483597205862)\n",
      "TtestResult(statistic=14.590619009480202, pvalue=0.00012834446172909763, df=4)\n",
      "WilcoxonResult(statistic=0.0, pvalue=0.0625)\n",
      "LeveneResult(statistic=1.7205123542243006, pvalue=0.22601622859243972)\n",
      "ShapiroResult(statistic=0.8218817100069609, pvalue=0.12072641043650023)\n",
      "TtestResult(statistic=3.135453373564167, pvalue=0.035000720133647155, df=4)\n",
      "WilcoxonResult(statistic=0.0, pvalue=0.0625)\n"
     ]
    }
   ],
   "source": [
    "\n",
    "print(\"===== HIT RATIO GEN =====\")\n",
    "random_return = final_df.groupby([\"alg_name\", \"seed\"]).mean()[\"hit_documents\"][\"Random_Gen\"].values\n",
    "slateq_return = final_df.groupby([\"alg_name\", \"seed\"]).mean()[\"hit_documents\"][\"SlateQ_Gen\"].values\n",
    "greedy_return = final_df.groupby([\"alg_name\", \"seed\"]).mean()[\"hit_documents\"][\"Greedy_Gen\"].values\n",
    "knn_state_return = final_df.groupby([\"alg_name\", \"seed\"]).mean()[\"hit_documents\"][\"KNN_State_Gen\"].values\n",
    "slatewp_return = final_df.groupby([\"alg_name\", \"seed\"]).mean()[\"hit_documents\"][\"SlateWP_Gen\"].values\n",
    "random_slateq_return = final_df.groupby([\"alg_name\", \"seed\"]).mean()[\"hit_documents\"][\"Random_Slateq_Gen\"].values\n",
    "print(\"===== Avg_Satisfaction =====\")\n",
    "print(\"RandomGen\",random_return.mean(), random_return.std())\n",
    "print(\"slateqGen\",slateq_return.mean(), slateq_return.std())\n",
    "print(\"greedyGen\",greedy_return.mean(), greedy_return.std())\n",
    "print(\"knnGen\",knn_state_return.mean(), knn_state_return.std())\n",
    "print(\"slatewpGen\",slatewp_return.mean(), slatewp_return.std())\n",
    "print(\"random_slateqGen\",random_slateq_return.mean(), random_slateq_return.std())\n",
    "stat_test(random_return, slateq_return)\n",
    "stat_test(random_return, greedy_return)\n",
    "stat_test(random_return, knn_state_return)\n",
    "stat_test(random_return, slatewp_return)\n",
    "stat_test(random_return, random_slateq_return)"
   ]
  },
  {
   "cell_type": "markdown",
   "metadata": {},
   "source": [
    "**SLATE DIVERSITY GEN**\n"
   ]
  },
  {
   "cell_type": "code",
   "execution_count": 31,
   "metadata": {},
   "outputs": [
    {
     "name": "stdout",
     "output_type": "stream",
     "text": [
      "===== SLATE DIVERSITY GEN =====\n",
      "RandomGen 0.5354666666666666 0.0040474957964427944\n",
      "slateqGen 0.6038666666666667 0.005397941994665923\n",
      "greedyGen 0.5481333333333334 0.006298500703430229\n",
      "knnGen 0.6073333333333333 0.007697041278598178\n",
      "slatewpGen 0.6006666666666667 0.008374564665302498\n",
      "random_slateqGen 0.6047999999999999 0.006270211763214679\n",
      "LeveneResult(statistic=0.04883931263190023, pvalue=0.8306315265779509)\n",
      "ShapiroResult(statistic=0.9382705844121709, pvalue=0.6537384603570969)\n",
      "TtestResult(statistic=-25.722446401927943, pvalue=1.3568720031981161e-05, df=4)\n",
      "WilcoxonResult(statistic=0.0, pvalue=0.0625)\n",
      "LeveneResult(statistic=0.8816513761467953, pvalue=0.375229786792289)\n",
      "ShapiroResult(statistic=0.7992443210473872, pvalue=0.07989224212882653)\n",
      "TtestResult(statistic=-4.8733971724045055, pvalue=0.008199561752838178, df=4)\n",
      "WilcoxonResult(statistic=0.0, pvalue=0.0625)\n",
      "LeveneResult(statistic=1.2680025046963093, pvalue=0.2927851562904429)\n",
      "ShapiroResult(statistic=0.8281799669940906, pvalue=0.1348058855667948)\n",
      "TtestResult(statistic=-15.77213857871687, pvalue=9.44145133393614e-05, df=4)\n",
      "WilcoxonResult(statistic=0.0, pvalue=0.0625)\n",
      "LeveneResult(statistic=1.8330042313117083, pvalue=0.21277643843439117)\n",
      "ShapiroResult(statistic=0.9650554263034674, pvalue=0.8426699779002559)\n",
      "TtestResult(statistic=-14.210523723009382, pvalue=0.00014239927445060238, df=4)\n",
      "WilcoxonResult(statistic=0.0, pvalue=0.0625)\n",
      "LeveneResult(statistic=0.730668983492631, pvalue=0.4175283269989952)\n",
      "ShapiroResult(statistic=0.8956964817525244, pvalue=0.3865591036324058)\n",
      "TtestResult(statistic=-15.943495997736731, pvalue=9.047153789745184e-05, df=4)\n",
      "WilcoxonResult(statistic=0.0, pvalue=0.0625)\n"
     ]
    }
   ],
   "source": [
    "print(\"===== SLATE DIVERSITY GEN =====\")\n",
    "random_return = final_df.groupby([\"alg_name\", \"seed\"]).mean()[\"diverse_score\"][\"Random_Gen\"].values\n",
    "slateq_return = final_df.groupby([\"alg_name\", \"seed\"]).mean()[\"diverse_score\"][\"SlateQ_Gen\"].values\n",
    "greedy_return = final_df.groupby([\"alg_name\", \"seed\"]).mean()[\"diverse_score\"][\"Greedy_Gen\"].values\n",
    "knn_state_return = final_df.groupby([\"alg_name\", \"seed\"]).mean()[\"diverse_score\"][\"KNN_State_Gen\"].values\n",
    "slatewp_return = final_df.groupby([\"alg_name\", \"seed\"]).mean()[\"diverse_score\"][\"SlateWP_Gen\"].values\n",
    "random_slateq_return = final_df.groupby([\"alg_name\", \"seed\"]).mean()[\"diverse_score\"][\"Random_Slateq_Gen\"].values\n",
    "\n",
    "print(\"RandomGen\",random_return.mean(), random_return.std())\n",
    "print(\"slateqGen\",slateq_return.mean(), slateq_return.std())\n",
    "print(\"greedyGen\",greedy_return.mean(), greedy_return.std())\n",
    "print(\"knnGen\",knn_state_return.mean(), knn_state_return.std())\n",
    "print(\"slatewpGen\",slatewp_return.mean(), slatewp_return.std())\n",
    "print(\"random_slateqGen\",random_slateq_return.mean(), random_slateq_return.std())\n",
    "stat_test(random_return, slateq_return)\n",
    "stat_test(random_return, greedy_return)\n",
    "stat_test(random_return, knn_state_return)\n",
    "stat_test(random_return, slatewp_return)\n",
    "stat_test(random_return, random_slateq_return)"
   ]
  },
  {
   "cell_type": "markdown",
   "metadata": {},
   "source": [
    "**AVG SATISFACTION SPEC**"
   ]
  },
  {
   "cell_type": "code",
   "execution_count": 32,
   "metadata": {},
   "outputs": [
    {
     "name": "stdout",
     "output_type": "stream",
     "text": [
      "===== AVG SATISFCATION =====\n",
      "RandomGen 0.5669099953894814 0.0037959185091998686\n",
      "slateqGen 0.5806364796310663 0.0024425011839549495\n",
      "greedyGen 0.5777852992977326 0.009963698388225774\n",
      "knnGen 0.5772698127975067 0.0027001458308901667\n",
      "slatewpGen 0.5729282042061289 0.0015463723917006394\n",
      "random_slateqGen 0.574853402433296 0.0024794521154702875\n",
      "LeveneResult(statistic=0.31307872419148014, pvalue=0.5911138231072657)\n",
      "ShapiroResult(statistic=0.9920795490171023, pvalue=0.9864457324669232)\n",
      "TtestResult(statistic=-8.894979895572439, pvalue=0.0008827467800670871, df=4)\n",
      "WilcoxonResult(statistic=0.0, pvalue=0.0625)\n",
      "LeveneResult(statistic=2.793558007138787, pvalue=0.1331875881260844)\n",
      "ShapiroResult(statistic=0.761873716733807, pvalue=0.038196272393642566)\n",
      "TtestResult(statistic=-2.2447240964910806, pvalue=0.08815899664757679, df=4)\n",
      "WilcoxonResult(statistic=1.0, pvalue=0.125)\n",
      "LeveneResult(statistic=0.34554343433899426, pvalue=0.5728616056054909)\n",
      "ShapiroResult(statistic=0.9737773047517181, pvalue=0.8988970547279667)\n",
      "TtestResult(statistic=-3.4284724184876505, pvalue=0.026572821518804305, df=4)\n",
      "WilcoxonResult(statistic=0.0, pvalue=0.0625)\n",
      "LeveneResult(statistic=1.3564296722274864, pvalue=0.27770949018686364)\n",
      "ShapiroResult(statistic=0.9095219662042907, pvalue=0.4647230159103529)\n",
      "TtestResult(statistic=-2.653226256021992, pvalue=0.0567902029888914, df=4)\n",
      "WilcoxonResult(statistic=0.0, pvalue=0.0625)\n",
      "LeveneResult(statistic=0.28848172648386344, pvalue=0.6058069708810669)\n",
      "ShapiroResult(statistic=0.9274857741102566, pvalue=0.5793284048558787)\n",
      "TtestResult(statistic=-3.302063897955231, pvalue=0.02987558834775662, df=4)\n",
      "WilcoxonResult(statistic=0.0, pvalue=0.0625)\n"
     ]
    }
   ],
   "source": [
    "print(\"===== AVG SATISFCATION =====\")\n",
    "random_return = final_df.groupby([\"alg_name\", \"seed\"]).mean()[\"ep_avg_satisfaction\"][\"Random_Spec\"].values\n",
    "slateq_return = final_df.groupby([\"alg_name\", \"seed\"]).mean()[\"ep_avg_satisfaction\"][\"SlateQ_Spec\"].values\n",
    "greedy_return = final_df.groupby([\"alg_name\", \"seed\"]).mean()[\"ep_avg_satisfaction\"][\"Greedy_Spec\"].values\n",
    "knn_state_return = final_df.groupby([\"alg_name\", \"seed\"]).mean()[\"ep_avg_satisfaction\"][\"KNN_State_Spec\"].values\n",
    "slatewp_return = final_df.groupby([\"alg_name\", \"seed\"]).mean()[\"ep_avg_satisfaction\"][\"SlateWP_Spec\"].values\n",
    "random_slateq_return = final_df.groupby([\"alg_name\", \"seed\"]).mean()[\"ep_avg_satisfaction\"][\"Random_Slateq_Spec\"].values\n",
    "\n",
    "print(\"RandomGen\",random_return.mean(), random_return.std())\n",
    "print(\"slateqGen\",slateq_return.mean(), slateq_return.std())\n",
    "print(\"greedyGen\",greedy_return.mean(), greedy_return.std())\n",
    "print(\"knnGen\",knn_state_return.mean(), knn_state_return.std())\n",
    "print(\"slatewpGen\",slatewp_return.mean(), slatewp_return.std())\n",
    "print(\"random_slateqGen\",random_slateq_return.mean(), random_slateq_return.std())\n",
    "stat_test(random_return, slateq_return)\n",
    "stat_test(random_return, greedy_return)\n",
    "stat_test(random_return, knn_state_return)\n",
    "stat_test(random_return, slatewp_return)\n",
    "stat_test(random_return, random_slateq_return)"
   ]
  },
  {
   "cell_type": "markdown",
   "metadata": {},
   "source": [
    "**HIT RATIO SPEC**\n"
   ]
  },
  {
   "cell_type": "code",
   "execution_count": 33,
   "metadata": {},
   "outputs": [
    {
     "name": "stdout",
     "output_type": "stream",
     "text": [
      "===== HIT RATIO =====\n",
      "RandomGen 0.08581905553738275 0.007309226934707466\n",
      "slateqGen 0.13481849576036137 0.011277529875169385\n",
      "greedyGen 0.11510984703401725 0.015833434994131527\n",
      "knnGen 0.08263938049475353 0.006698719103107463\n",
      "slatewpGen 0.06151506067812442 0.0060452004541142095\n",
      "random_slateqGen 0.09431745174527167 0.0038077525077763095\n",
      "LeveneResult(statistic=0.5351489468480437, pvalue=0.48532391283212983)\n",
      "ShapiroResult(statistic=0.8374417486622433, pvalue=0.15797378061464157)\n",
      "TtestResult(statistic=-6.772035168647467, pvalue=0.0024810687838333146, df=4)\n",
      "WilcoxonResult(statistic=0.0, pvalue=0.0625)\n",
      "LeveneResult(statistic=1.8673417279379616, pvalue=0.20894855675878066)\n",
      "ShapiroResult(statistic=0.95542507202071, pvalue=0.7758222274349508)\n",
      "TtestResult(statistic=-2.5953057347853727, pvalue=0.06034562745507531, df=4)\n",
      "WilcoxonResult(statistic=1.0, pvalue=0.125)\n",
      "LeveneResult(statistic=0.009935300068996804, pvalue=0.9230541091720963)\n",
      "ShapiroResult(statistic=0.947677918740116, pvalue=0.7205929456156355)\n",
      "TtestResult(statistic=0.5953759045397437, pvalue=0.5836415019144385, df=4)\n",
      "WilcoxonResult(statistic=5.0, pvalue=0.625)\n",
      "LeveneResult(statistic=0.1922445021831557, pvalue=0.6726542154490192)\n",
      "ShapiroResult(statistic=0.8005842985292688, pvalue=0.08192708322070902)\n",
      "TtestResult(statistic=4.915027834548086, pvalue=0.007957698848957225, df=4)\n",
      "WilcoxonResult(statistic=0.0, pvalue=0.0625)\n",
      "LeveneResult(statistic=1.1352089285959823, pvalue=0.3177642683757596)\n",
      "ShapiroResult(statistic=0.9500006645876288, pvalue=0.7371932252277106)\n",
      "TtestResult(statistic=-1.9842019472436316, pvalue=0.11823188697367146, df=4)\n",
      "WilcoxonResult(statistic=2.0, pvalue=0.1875)\n"
     ]
    }
   ],
   "source": [
    "print(\"===== HIT RATIO =====\")\n",
    "random_return = final_df.groupby([\"alg_name\", \"seed\"]).mean()[\"hit_documents\"][\"Random_Spec\"].values\n",
    "slateq_return = final_df.groupby([\"alg_name\", \"seed\"]).mean()[\"hit_documents\"][\"SlateQ_Spec\"].values\n",
    "greedy_return = final_df.groupby([\"alg_name\", \"seed\"]).mean()[\"hit_documents\"][\"Greedy_Spec\"].values\n",
    "knn_state_return = final_df.groupby([\"alg_name\", \"seed\"]).mean()[\"hit_documents\"][\"KNN_State_Spec\"].values\n",
    "slatewp_return = final_df.groupby([\"alg_name\", \"seed\"]).mean()[\"hit_documents\"][\"SlateWP_Spec\"].values\n",
    "random_slateq_return = final_df.groupby([\"alg_name\", \"seed\"]).mean()[\"hit_documents\"][\"Random_Slateq_Spec\"].values\n",
    "\n",
    "print(\"RandomGen\",random_return.mean(), random_return.std())\n",
    "print(\"slateqGen\",slateq_return.mean(), slateq_return.std())\n",
    "print(\"greedyGen\",greedy_return.mean(), greedy_return.std())\n",
    "print(\"knnGen\",knn_state_return.mean(), knn_state_return.std())\n",
    "print(\"slatewpGen\",slatewp_return.mean(), slatewp_return.std())\n",
    "print(\"random_slateqGen\",random_slateq_return.mean(), random_slateq_return.std())\n",
    "stat_test(random_return, slateq_return)\n",
    "stat_test(random_return, greedy_return)\n",
    "stat_test(random_return, knn_state_return)\n",
    "stat_test(random_return, slatewp_return)\n",
    "stat_test(random_return, random_slateq_return)"
   ]
  },
  {
   "cell_type": "markdown",
   "metadata": {},
   "source": [
    "**SLATE DIVERSITY SPEC**"
   ]
  },
  {
   "cell_type": "code",
   "execution_count": 34,
   "metadata": {},
   "outputs": [
    {
     "name": "stdout",
     "output_type": "stream",
     "text": [
      "===== SLATE DIVERSITY SPEC =====\n",
      "RandomGen 0.5314 0.0051570878948836735\n",
      "slateqGen 0.6025333333333334 0.007392488680335561\n",
      "greedyGen 0.6295333333333334 0.01021458652015722\n",
      "knnGen 0.5767333333333333 0.004841487374764088\n",
      "slatewpGen 0.5971333333333334 0.005335832747670327\n",
      "random_slateqGen 0.6048666666666666 0.006605048574133741\n",
      "LeveneResult(statistic=0.38897058823530917, pvalue=0.5502056470235659)\n",
      "ShapiroResult(statistic=0.8498774794091558, pvalue=0.19413155973548385)\n",
      "TtestResult(statistic=-12.776839752826172, pvalue=0.00021623540351174253, df=4)\n",
      "WilcoxonResult(statistic=0.0, pvalue=0.0625)\n",
      "LeveneResult(statistic=0.537952430196474, pvalue=0.48421881616341245)\n",
      "ShapiroResult(statistic=0.8480768505466019, pvalue=0.18851581748191992)\n",
      "TtestResult(statistic=-13.127169168687152, pvalue=0.00019446856082605974, df=4)\n",
      "WilcoxonResult(statistic=0.0, pvalue=0.0625)\n",
      "LeveneResult(statistic=0.03634528016153464, pvalue=0.853553321657925)\n",
      "ShapiroResult(statistic=0.8753763941789751, pvalue=0.28888161725525063)\n",
      "TtestResult(statistic=-14.424076859572072, pvalue=0.00013427948489362987, df=4)\n",
      "WilcoxonResult(statistic=0.0, pvalue=0.0625)\n",
      "LeveneResult(statistic=0.004481792717087395, pvalue=0.9482674147568213)\n",
      "ShapiroResult(statistic=0.9028362509623944, pvalue=0.4257595881917998)\n",
      "TtestResult(statistic=-17.946564529175635, pvalue=5.6661702798694944e-05, df=4)\n",
      "WilcoxonResult(statistic=0.0, pvalue=0.0625)\n",
      "LeveneResult(statistic=0.11861614497527595, pvalue=0.7394187352831494)\n",
      "ShapiroResult(statistic=0.8962272279545821, pvalue=0.38938611680341967)\n",
      "TtestResult(statistic=-17.393737454634635, pvalue=6.413126704437427e-05, df=4)\n",
      "WilcoxonResult(statistic=0.0, pvalue=0.0625)\n"
     ]
    }
   ],
   "source": [
    "print(\"===== SLATE DIVERSITY SPEC =====\")\n",
    "random_return = final_df.groupby([\"alg_name\", \"seed\"]).mean()[\"diverse_score\"][\"Random_Spec\"].values\n",
    "slateq_return = final_df.groupby([\"alg_name\", \"seed\"]).mean()[\"diverse_score\"][\"SlateQ_Spec\"].values\n",
    "greedy_return = final_df.groupby([\"alg_name\", \"seed\"]).mean()[\"diverse_score\"][\"Greedy_Spec\"].values\n",
    "knn_state_return = final_df.groupby([\"alg_name\", \"seed\"]).mean()[\"diverse_score\"][\"KNN_State_Spec\"].values\n",
    "slatewp_return = final_df.groupby([\"alg_name\", \"seed\"]).mean()[\"diverse_score\"][\"SlateWP_Spec\"].values\n",
    "random_slateq_return = final_df.groupby([\"alg_name\", \"seed\"]).mean()[\"diverse_score\"][\"Random_Slateq_Spec\"].values\n",
    "\n",
    "print(\"RandomGen\",random_return.mean(), random_return.std())\n",
    "print(\"slateqGen\",slateq_return.mean(), slateq_return.std())\n",
    "print(\"greedyGen\",greedy_return.mean(), greedy_return.std())\n",
    "print(\"knnGen\",knn_state_return.mean(), knn_state_return.std())\n",
    "print(\"slatewpGen\",slatewp_return.mean(), slatewp_return.std())\n",
    "print(\"random_slateqGen\",random_slateq_return.mean(), random_slateq_return.std())\n",
    "stat_test(random_return, slateq_return)\n",
    "stat_test(random_return, greedy_return)\n",
    "stat_test(random_return, knn_state_return)\n",
    "stat_test(random_return, slatewp_return)\n",
    "stat_test(random_return, random_slateq_return)"
   ]
  },
  {
   "cell_type": "markdown",
   "metadata": {},
   "source": [
    "**AVG SATISFACTION COLDSTART**"
   ]
  },
  {
   "cell_type": "code",
   "execution_count": 35,
   "metadata": {},
   "outputs": [
    {
     "name": "stdout",
     "output_type": "stream",
     "text": [
      "===== AVG SATISFCATION =====\n",
      "RandomGen 0.8557303752005101 0.00487806586791665\n",
      "slateqGen 0.8584959629600247 0.01045361789092417\n",
      "greedyGen 0.8660079503854116 0.009998290941095866\n",
      "knnGen 0.8767388913333416 0.004268795729126884\n",
      "slatewpGen 0.8471174865836899 0.005434518021786598\n",
      "random_slateqGen 0.8615151694541175 0.0020574838431131493\n",
      "LeveneResult(statistic=0.825178347635458, pvalue=0.39021463609652807)\n",
      "ShapiroResult(statistic=0.9459592207308927, pvalue=0.708314361396337)\n",
      "TtestResult(statistic=-0.8410984603586463, pvalue=0.44763524820963946, df=4)\n",
      "WilcoxonResult(statistic=4.0, pvalue=0.4375)\n",
      "LeveneResult(statistic=2.346457629737757, pvalue=0.16410411637205283)\n",
      "ShapiroResult(statistic=0.9155754077019369, pvalue=0.5018082573840095)\n",
      "TtestResult(statistic=-2.0095611310991393, pvalue=0.11485642958417672, df=4)\n",
      "WilcoxonResult(statistic=1.0, pvalue=0.125)\n",
      "LeveneResult(statistic=0.17709783711080934, pvalue=0.6849567666799278)\n",
      "ShapiroResult(statistic=0.8870793901801273, pvalue=0.34263038842112703)\n",
      "TtestResult(statistic=-8.706926246972959, pvalue=0.0009581512625185581, df=4)\n",
      "WilcoxonResult(statistic=0.0, pvalue=0.0625)\n",
      "LeveneResult(statistic=0.09568683974800472, pvalue=0.7649716039574042)\n",
      "ShapiroResult(statistic=0.9048266601796285, pvalue=0.4371345854021594)\n",
      "TtestResult(statistic=2.711456096046518, pvalue=0.053456730187038004, df=4)\n",
      "WilcoxonResult(statistic=1.0, pvalue=0.125)\n",
      "LeveneResult(statistic=2.432973652295836, pvalue=0.15742747012142097)\n",
      "ShapiroResult(statistic=0.8827886706971758, pvalue=0.3221394911116355)\n",
      "TtestResult(statistic=-3.5314246388426085, pvalue=0.024199486836014004, df=4)\n",
      "WilcoxonResult(statistic=0.0, pvalue=0.0625)\n"
     ]
    }
   ],
   "source": [
    "print(\"===== AVG SATISFCATION =====\")\n",
    "random_return = final_df.groupby([\"alg_name\", \"seed\"]).mean()[\"ep_avg_satisfaction\"][\"Random_ColdStart\"].values\n",
    "slateq_return = final_df.groupby([\"alg_name\", \"seed\"]).mean()[\"ep_avg_satisfaction\"][\"SlateQ_ColdStart\"].values\n",
    "greedy_return = final_df.groupby([\"alg_name\", \"seed\"]).mean()[\"ep_avg_satisfaction\"][\"Greedy_ColdStart\"].values\n",
    "knn_state_return = final_df.groupby([\"alg_name\", \"seed\"]).mean()[\"ep_avg_satisfaction\"][\"KNN_State_ColdStart\"].values\n",
    "slatewp_return = final_df.groupby([\"alg_name\", \"seed\"]).mean()[\"ep_avg_satisfaction\"][\"SlateWP_ColdStart\"].values\n",
    "random_slateq_return = final_df.groupby([\"alg_name\", \"seed\"]).mean()[\"ep_avg_satisfaction\"][\"Random_Slateq_ColdStart\"].values\n",
    "\n",
    "print(\"RandomGen\",random_return.mean(), random_return.std())\n",
    "print(\"slateqGen\",slateq_return.mean(), slateq_return.std())\n",
    "print(\"greedyGen\",greedy_return.mean(), greedy_return.std())\n",
    "print(\"knnGen\",knn_state_return.mean(), knn_state_return.std())\n",
    "print(\"slatewpGen\",slatewp_return.mean(), slatewp_return.std())\n",
    "print(\"random_slateqGen\",random_slateq_return.mean(), random_slateq_return.std())\n",
    "stat_test(random_return, slateq_return)\n",
    "stat_test(random_return, greedy_return)\n",
    "stat_test(random_return, knn_state_return)\n",
    "stat_test(random_return, slatewp_return)\n",
    "stat_test(random_return, random_slateq_return)"
   ]
  },
  {
   "cell_type": "markdown",
   "metadata": {},
   "source": [
    "**HIT RATIO COLD START**"
   ]
  },
  {
   "cell_type": "code",
   "execution_count": 36,
   "metadata": {},
   "outputs": [
    {
     "name": "stdout",
     "output_type": "stream",
     "text": [
      "===== HIT RATIO COLD START =====\n",
      "RandomGen 0.08227486854791641 0.016416935066314177\n",
      "slateqGen 0.12572010670105613 0.009917870760881093\n",
      "greedyGen 0.1281433873027563 0.01344049687695003\n",
      "knnGen 0.06048201108972231 0.008246634056148833\n",
      "slatewpGen 0.04715555592874685 0.005203955458622988\n",
      "random_slateqGen 0.08158412778377533 0.003705757639931202\n",
      "LeveneResult(statistic=0.8449445002096807, pvalue=0.38486391855593216)\n",
      "ShapiroResult(statistic=0.8606831300071035, pvalue=0.2307114424300316)\n",
      "TtestResult(statistic=-3.399257863521548, pvalue=0.02729598253860911, df=4)\n",
      "WilcoxonResult(statistic=0.0, pvalue=0.0625)\n",
      "LeveneResult(statistic=0.13377466519922845, pvalue=0.7240323613485646)\n",
      "ShapiroResult(statistic=0.8726905386083962, pvalue=0.2774898193674473)\n",
      "TtestResult(statistic=-3.6686415390942435, pvalue=0.021416726612098837, df=4)\n",
      "WilcoxonResult(statistic=0.0, pvalue=0.0625)\n",
      "LeveneResult(statistic=1.4755017575628986, pvalue=0.25911329956675266)\n",
      "ShapiroResult(statistic=0.9303020231358933, pvalue=0.5984315840027978)\n",
      "TtestResult(statistic=1.893662644039487, pvalue=0.13119467413248204, df=4)\n",
      "WilcoxonResult(statistic=3.0, pvalue=0.3125)\n",
      "LeveneResult(statistic=3.3197918366121, pvalue=0.10592241213348066)\n",
      "ShapiroResult(statistic=0.9298700756553613, pvalue=0.5954847737033058)\n",
      "TtestResult(statistic=3.5461144747785966, pvalue=0.023881786080822816, df=4)\n",
      "WilcoxonResult(statistic=0.0, pvalue=0.0625)\n",
      "LeveneResult(statistic=4.485510398668456, pvalue=0.06704372721024868)\n",
      "ShapiroResult(statistic=0.9211039445203307, pvalue=0.5370863653592168)\n",
      "TtestResult(statistic=0.09622778008639607, pvalue=0.9279680537024855, df=4)\n",
      "WilcoxonResult(statistic=7.0, pvalue=1.0)\n"
     ]
    }
   ],
   "source": [
    "print(\"===== HIT RATIO COLD START =====\")\n",
    "random_return = final_df.groupby([\"alg_name\", \"seed\"]).mean()[\"hit_documents\"][\"Random_ColdStart\"].values\n",
    "slateq_return = final_df.groupby([\"alg_name\", \"seed\"]).mean()[\"hit_documents\"][\"SlateQ_ColdStart\"].values\n",
    "greedy_return = final_df.groupby([\"alg_name\", \"seed\"]).mean()[\"hit_documents\"][\"Greedy_ColdStart\"].values\n",
    "knn_state_return = final_df.groupby([\"alg_name\", \"seed\"]).mean()[\"hit_documents\"][\"KNN_State_ColdStart\"].values\n",
    "slatewp_return = final_df.groupby([\"alg_name\", \"seed\"]).mean()[\"hit_documents\"][\"SlateWP_ColdStart\"].values\n",
    "random_slateq_return = final_df.groupby([\"alg_name\", \"seed\"]).mean()[\"hit_documents\"][\"Random_Slateq_ColdStart\"].values\n",
    "\n",
    "print(\"RandomGen\",random_return.mean(), random_return.std())\n",
    "print(\"slateqGen\",slateq_return.mean(), slateq_return.std())\n",
    "print(\"greedyGen\",greedy_return.mean(), greedy_return.std())\n",
    "print(\"knnGen\",knn_state_return.mean(), knn_state_return.std())\n",
    "print(\"slatewpGen\",slatewp_return.mean(), slatewp_return.std())\n",
    "print(\"random_slateqGen\",random_slateq_return.mean(), random_slateq_return.std())\n",
    "stat_test(random_return, slateq_return)\n",
    "stat_test(random_return, greedy_return)\n",
    "stat_test(random_return, knn_state_return)\n",
    "stat_test(random_return, slatewp_return)\n",
    "stat_test(random_return, random_slateq_return)"
   ]
  },
  {
   "cell_type": "markdown",
   "metadata": {},
   "source": [
    "**SLATE DIVERSITY COLD START**"
   ]
  },
  {
   "cell_type": "code",
   "execution_count": 37,
   "metadata": {},
   "outputs": [
    {
     "name": "stdout",
     "output_type": "stream",
     "text": [
      "===== SLATE DIVERSITY COLD START =====\n",
      "RandomGen 0.5307333333333333 0.008736640595153809\n",
      "slateqGen 0.5993333333333333 0.005838569078882991\n",
      "greedyGen 0.6312 0.0026633312473917517\n",
      "knnGen 0.5817999999999999 0.003930507459462332\n",
      "slatewpGen 0.6047333333333332 0.009262589030911164\n",
      "random_slateqGen 0.5908 0.009504618760254255\n",
      "LeveneResult(statistic=0.30717151454364333, pvalue=0.594570542667686)\n",
      "ShapiroResult(statistic=0.9536413858349718, pvalue=0.763158750560974)\n",
      "TtestResult(statistic=-30.36336323154087, pvalue=7.008382565411367e-06, df=4)\n",
      "WilcoxonResult(statistic=0.0, pvalue=0.0625)\n",
      "LeveneResult(statistic=1.5287338893100881, pvalue=0.2513694788152565)\n",
      "ShapiroResult(statistic=0.9841586000774194, pvalue=0.9555626789229458)\n",
      "TtestResult(statistic=-22.38063963421729, pvalue=2.3599511147708045e-05, df=4)\n",
      "WilcoxonResult(statistic=0.0, pvalue=0.0625)\n",
      "LeveneResult(statistic=0.9278880479794385, pvalue=0.3636216484991674)\n",
      "ShapiroResult(statistic=0.985942838389983, pvalue=0.9636579607226265)\n",
      "TtestResult(statistic=-18.16359605185598, pvalue=5.402796876578878e-05, df=4)\n",
      "WilcoxonResult(statistic=0.0, pvalue=0.0625)\n",
      "LeveneResult(statistic=0.06198391420911301, pvalue=0.8096599625012257)\n",
      "ShapiroResult(statistic=0.9849425692177046, pvalue=0.9591913264489206)\n",
      "TtestResult(statistic=-23.705721492309163, pvalue=1.8776035665227375e-05, df=4)\n",
      "WilcoxonResult(statistic=0.0, pvalue=0.0625)\n",
      "LeveneResult(statistic=0.04243328360682298, pvalue=0.8419416472294684)\n",
      "ShapiroResult(statistic=0.9775048635925644, pvalue=0.9208511364137322)\n",
      "TtestResult(statistic=-13.896942644645407, pvalue=0.0001554637593066627, df=4)\n",
      "WilcoxonResult(statistic=0.0, pvalue=0.0625)\n"
     ]
    }
   ],
   "source": [
    "print(\"===== SLATE DIVERSITY COLD START =====\")\n",
    "random_return = final_df.groupby([\"alg_name\", \"seed\"]).mean()[\"diverse_score\"][\"Random_ColdStart\"].values\n",
    "slateq_return = final_df.groupby([\"alg_name\", \"seed\"]).mean()[\"diverse_score\"][\"SlateQ_ColdStart\"].values\n",
    "greedy_return = final_df.groupby([\"alg_name\", \"seed\"]).mean()[\"diverse_score\"][\"Greedy_ColdStart\"].values\n",
    "knn_state_return = final_df.groupby([\"alg_name\", \"seed\"]).mean()[\"diverse_score\"][\"KNN_State_ColdStart\"].values\n",
    "slatewp_return = final_df.groupby([\"alg_name\", \"seed\"]).mean()[\"diverse_score\"][\"SlateWP_ColdStart\"].values\n",
    "random_slateq_return = final_df.groupby([\"alg_name\", \"seed\"]).mean()[\"diverse_score\"][\"Random_Slateq_ColdStart\"].values\n",
    "\n",
    "print(\"RandomGen\",random_return.mean(), random_return.std())\n",
    "print(\"slateqGen\",slateq_return.mean(), slateq_return.std())\n",
    "print(\"greedyGen\",greedy_return.mean(), greedy_return.std())\n",
    "print(\"knnGen\",knn_state_return.mean(), knn_state_return.std())\n",
    "print(\"slatewpGen\",slatewp_return.mean(), slatewp_return.std())\n",
    "print(\"random_slateqGen\",random_slateq_return.mean(), random_slateq_return.std())\n",
    "stat_test(random_return, slateq_return)\n",
    "stat_test(random_return, greedy_return)\n",
    "stat_test(random_return, knn_state_return)\n",
    "stat_test(random_return, slatewp_return)\n",
    "stat_test(random_return, random_slateq_return)"
   ]
  },
  {
   "cell_type": "code",
   "execution_count": 38,
   "metadata": {},
   "outputs": [
    {
     "data": {
      "text/html": [
       "<div>\n",
       "<style scoped>\n",
       "    .dataframe tbody tr th:only-of-type {\n",
       "        vertical-align: middle;\n",
       "    }\n",
       "\n",
       "    .dataframe tbody tr th {\n",
       "        vertical-align: top;\n",
       "    }\n",
       "\n",
       "    .dataframe thead th {\n",
       "        text-align: right;\n",
       "    }\n",
       "</style>\n",
       "<table border=\"1\" class=\"dataframe\">\n",
       "  <thead>\n",
       "    <tr style=\"text-align: right;\">\n",
       "      <th></th>\n",
       "      <th>episode</th>\n",
       "      <th>hit_documents</th>\n",
       "      <th>ep_cum_satisfaction</th>\n",
       "      <th>ep_avg_satisfaction</th>\n",
       "      <th>diverse_score</th>\n",
       "      <th>user_satisfaction</th>\n",
       "      <th>relevance</th>\n",
       "      <th>alg_name</th>\n",
       "      <th>seed</th>\n",
       "    </tr>\n",
       "  </thead>\n",
       "  <tbody>\n",
       "    <tr>\n",
       "      <th>0</th>\n",
       "      <td>0</td>\n",
       "      <td>0.000000</td>\n",
       "      <td>0.923530</td>\n",
       "      <td>0.461765</td>\n",
       "      <td>0.6</td>\n",
       "      <td>0.815647</td>\n",
       "      <td>0.748012</td>\n",
       "      <td>SlateQ_Gen</td>\n",
       "      <td>5</td>\n",
       "    </tr>\n",
       "    <tr>\n",
       "      <th>1</th>\n",
       "      <td>1</td>\n",
       "      <td>0.000000</td>\n",
       "      <td>0.782511</td>\n",
       "      <td>0.260837</td>\n",
       "      <td>0.7</td>\n",
       "      <td>0.970378</td>\n",
       "      <td>0.948471</td>\n",
       "      <td>SlateQ_Gen</td>\n",
       "      <td>5</td>\n",
       "    </tr>\n",
       "    <tr>\n",
       "      <th>2</th>\n",
       "      <td>2</td>\n",
       "      <td>0.000000</td>\n",
       "      <td>1.326244</td>\n",
       "      <td>0.331561</td>\n",
       "      <td>0.8</td>\n",
       "      <td>0.578357</td>\n",
       "      <td>0.579343</td>\n",
       "      <td>SlateQ_Gen</td>\n",
       "      <td>5</td>\n",
       "    </tr>\n",
       "    <tr>\n",
       "      <th>3</th>\n",
       "      <td>3</td>\n",
       "      <td>0.333333</td>\n",
       "      <td>0.887048</td>\n",
       "      <td>0.295683</td>\n",
       "      <td>0.6</td>\n",
       "      <td>0.992782</td>\n",
       "      <td>1.000000</td>\n",
       "      <td>SlateQ_Gen</td>\n",
       "      <td>5</td>\n",
       "    </tr>\n",
       "    <tr>\n",
       "      <th>4</th>\n",
       "      <td>4</td>\n",
       "      <td>0.000000</td>\n",
       "      <td>0.499515</td>\n",
       "      <td>0.249757</td>\n",
       "      <td>0.7</td>\n",
       "      <td>0.905194</td>\n",
       "      <td>0.901347</td>\n",
       "      <td>SlateQ_Gen</td>\n",
       "      <td>5</td>\n",
       "    </tr>\n",
       "    <tr>\n",
       "      <th>...</th>\n",
       "      <td>...</td>\n",
       "      <td>...</td>\n",
       "      <td>...</td>\n",
       "      <td>...</td>\n",
       "      <td>...</td>\n",
       "      <td>...</td>\n",
       "      <td>...</td>\n",
       "      <td>...</td>\n",
       "      <td>...</td>\n",
       "    </tr>\n",
       "    <tr>\n",
       "      <th>26995</th>\n",
       "      <td>295</td>\n",
       "      <td>0.000000</td>\n",
       "      <td>0.551647</td>\n",
       "      <td>0.551647</td>\n",
       "      <td>0.6</td>\n",
       "      <td>0.842924</td>\n",
       "      <td>0.842924</td>\n",
       "      <td>Random_Slateq_Spec</td>\n",
       "      <td>99</td>\n",
       "    </tr>\n",
       "    <tr>\n",
       "      <th>26996</th>\n",
       "      <td>296</td>\n",
       "      <td>0.333333</td>\n",
       "      <td>1.693517</td>\n",
       "      <td>0.564506</td>\n",
       "      <td>0.5</td>\n",
       "      <td>0.961884</td>\n",
       "      <td>1.000000</td>\n",
       "      <td>Random_Slateq_Spec</td>\n",
       "      <td>99</td>\n",
       "    </tr>\n",
       "    <tr>\n",
       "      <th>26997</th>\n",
       "      <td>297</td>\n",
       "      <td>0.000000</td>\n",
       "      <td>1.277138</td>\n",
       "      <td>0.638569</td>\n",
       "      <td>0.6</td>\n",
       "      <td>0.844704</td>\n",
       "      <td>0.826997</td>\n",
       "      <td>Random_Slateq_Spec</td>\n",
       "      <td>99</td>\n",
       "    </tr>\n",
       "    <tr>\n",
       "      <th>26998</th>\n",
       "      <td>298</td>\n",
       "      <td>0.000000</td>\n",
       "      <td>1.061631</td>\n",
       "      <td>0.530815</td>\n",
       "      <td>0.7</td>\n",
       "      <td>0.953088</td>\n",
       "      <td>0.954769</td>\n",
       "      <td>Random_Slateq_Spec</td>\n",
       "      <td>99</td>\n",
       "    </tr>\n",
       "    <tr>\n",
       "      <th>26999</th>\n",
       "      <td>299</td>\n",
       "      <td>0.000000</td>\n",
       "      <td>1.762033</td>\n",
       "      <td>0.587344</td>\n",
       "      <td>0.7</td>\n",
       "      <td>0.963311</td>\n",
       "      <td>0.969754</td>\n",
       "      <td>Random_Slateq_Spec</td>\n",
       "      <td>99</td>\n",
       "    </tr>\n",
       "  </tbody>\n",
       "</table>\n",
       "<p>27000 rows × 9 columns</p>\n",
       "</div>"
      ],
      "text/plain": [
       "       episode  hit_documents  ep_cum_satisfaction  ep_avg_satisfaction  \\\n",
       "0            0       0.000000             0.923530             0.461765   \n",
       "1            1       0.000000             0.782511             0.260837   \n",
       "2            2       0.000000             1.326244             0.331561   \n",
       "3            3       0.333333             0.887048             0.295683   \n",
       "4            4       0.000000             0.499515             0.249757   \n",
       "...        ...            ...                  ...                  ...   \n",
       "26995      295       0.000000             0.551647             0.551647   \n",
       "26996      296       0.333333             1.693517             0.564506   \n",
       "26997      297       0.000000             1.277138             0.638569   \n",
       "26998      298       0.000000             1.061631             0.530815   \n",
       "26999      299       0.000000             1.762033             0.587344   \n",
       "\n",
       "       diverse_score  user_satisfaction  relevance            alg_name  seed  \n",
       "0                0.6           0.815647   0.748012          SlateQ_Gen     5  \n",
       "1                0.7           0.970378   0.948471          SlateQ_Gen     5  \n",
       "2                0.8           0.578357   0.579343          SlateQ_Gen     5  \n",
       "3                0.6           0.992782   1.000000          SlateQ_Gen     5  \n",
       "4                0.7           0.905194   0.901347          SlateQ_Gen     5  \n",
       "...              ...                ...        ...                 ...   ...  \n",
       "26995            0.6           0.842924   0.842924  Random_Slateq_Spec    99  \n",
       "26996            0.5           0.961884   1.000000  Random_Slateq_Spec    99  \n",
       "26997            0.6           0.844704   0.826997  Random_Slateq_Spec    99  \n",
       "26998            0.7           0.953088   0.954769  Random_Slateq_Spec    99  \n",
       "26999            0.7           0.963311   0.969754  Random_Slateq_Spec    99  \n",
       "\n",
       "[27000 rows x 9 columns]"
      ]
     },
     "execution_count": 38,
     "metadata": {},
     "output_type": "execute_result"
    }
   ],
   "source": [
    "final_df"
   ]
  },
  {
   "cell_type": "code",
   "execution_count": 39,
   "metadata": {},
   "outputs": [
    {
     "data": {
      "text/plain": [
       "seed  alg_name  \n",
       "5     Random_Gen    0.153156\n",
       "33    Random_Gen    0.137615\n",
       "42    Random_Gen    0.157775\n",
       "97    Random_Gen    0.125769\n",
       "99    Random_Gen    0.118723\n",
       "Name: ep_avg_satisfaction, dtype: float64"
      ]
     },
     "execution_count": 39,
     "metadata": {},
     "output_type": "execute_result"
    }
   ],
   "source": [
    "final_df[final_df[\"alg_name\"]==\"Random_Gen\"].groupby(['seed', 'alg_name'])['ep_avg_satisfaction'].std()"
   ]
  },
  {
   "cell_type": "code",
   "execution_count": 40,
   "metadata": {},
   "outputs": [
    {
     "data": {
      "text/plain": [
       "episode                  int64\n",
       "hit_documents          float64\n",
       "ep_cum_satisfaction    float64\n",
       "ep_avg_satisfaction    float64\n",
       "diverse_score          float64\n",
       "user_satisfaction      float64\n",
       "relevance              float64\n",
       "alg_name                object\n",
       "seed                     int64\n",
       "dtype: object"
      ]
     },
     "execution_count": 40,
     "metadata": {},
     "output_type": "execute_result"
    }
   ],
   "source": [
    "final_df.dtypes"
   ]
  },
  {
   "cell_type": "code",
   "execution_count": null,
   "metadata": {},
   "outputs": [],
   "source": []
  }
 ],
 "metadata": {
  "kernelspec": {
   "display_name": ".venv",
   "language": "python",
   "name": "python3"
  },
  "language_info": {
   "codemirror_mode": {
    "name": "ipython",
    "version": 3
   },
   "file_extension": ".py",
   "mimetype": "text/x-python",
   "name": "python",
   "nbconvert_exporter": "python",
   "pygments_lexer": "ipython3",
   "version": "3.11.6"
  }
 },
 "nbformat": 4,
 "nbformat_minor": 2
}
