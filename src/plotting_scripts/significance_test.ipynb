{
 "cells": [
  {
   "cell_type": "code",
   "execution_count": 22,
   "metadata": {},
   "outputs": [],
   "source": [
    "import os \n",
    "from pathlib import Path\n",
    "from dotenv import load_dotenv\n",
    "import pickle\n",
    "import pandas as pd\n",
    "import numpy as np\n",
    "import torch\n",
    "from tqdm import tqdm\n",
    "import seaborn as sns\n",
    "import matplotlib.pyplot as plt\n",
    "from scipy.stats import norm\n",
    "import matplotlib.ticker as mtick"
   ]
  },
  {
   "cell_type": "code",
   "execution_count": 23,
   "metadata": {},
   "outputs": [
    {
     "data": {
      "text/plain": [
       "True"
      ]
     },
     "execution_count": 23,
     "metadata": {},
     "output_type": "execute_result"
    }
   ],
   "source": [
    "load_dotenv()"
   ]
  },
  {
   "cell_type": "code",
   "execution_count": 24,
   "metadata": {},
   "outputs": [],
   "source": [
    "base_path = Path.home()/Path(os.environ.get(\"TEST_PATH\"))"
   ]
  },
  {
   "cell_type": "code",
   "execution_count": 25,
   "metadata": {},
   "outputs": [],
   "source": [
    "SEEDS = [1, 3, 7, 9]\n",
    "window = 100"
   ]
  },
  {
   "cell_type": "code",
   "execution_count": 26,
   "metadata": {},
   "outputs": [],
   "source": [
    "def parse_data(data_dict: dict, alg_nam:str, seed: int)->pd.DataFrame:\n",
    "    # convert from torch to float\n",
    "    for k, v in data_dict.items():\n",
    "        if isinstance(v, torch.Tensor):\n",
    "            data_dict[k] = v.item()\n",
    "        elif isinstance(v, list):\n",
    "            if isinstance(v[0], torch.Tensor):\n",
    "                data_dict[k] = [x.item() for x in v]\n",
    "    data_df = pd.DataFrame(data_dict)\n",
    "    data_df[\"alg_name\"] = alg_nam\n",
    "    data_df[\"seed\"] = seed\n",
    "    data_df = data_df.reset_index().rename(columns={\"index\": \"episode\"})\n",
    "    return data_df"
   ]
  },
  {
   "cell_type": "code",
   "execution_count": 27,
   "metadata": {},
   "outputs": [
    {
     "name": "stderr",
     "output_type": "stream",
     "text": [
      "100%|██████████| 4/4 [00:00<00:00,  7.33it/s]\n"
     ]
    }
   ],
   "source": [
    "res_df_list = []\n",
    "for seed in tqdm(SEEDS):\n",
    "    slateq_dict = pickle.load(open(base_path / Path(f\"slateq_generalist_{seed}\")/ \"logs_dict.pickle\", \"rb\"))\n",
    "    res_df = parse_data(slateq_dict, \"SlateQ_Gen\", seed)\n",
    "    res_df_list.append(res_df)\n",
    "# concat all results\n",
    "final_df = pd.concat(res_df_list)"
   ]
  },
  {
   "cell_type": "code",
   "execution_count": 28,
   "metadata": {},
   "outputs": [
    {
     "name": "stderr",
     "output_type": "stream",
     "text": [
      "100%|██████████| 4/4 [00:00<00:00,  5.48it/s]\n"
     ]
    }
   ],
   "source": [
    "res_df_list = []\n",
    "for seed in tqdm(SEEDS):\n",
    "    slateq_dict = pickle.load(open(base_path / Path(f\"slateq_specialist_{seed}\")/ \"logs_dict.pickle\", \"rb\"))\n",
    "    res_df = parse_data(slateq_dict, \"SlateQ_Spec\", seed)\n",
    "    res_df_list.append(res_df)\n",
    "# concat all results\n",
    "slateq_spec_df = pd.concat(res_df_list)\n",
    "final_df = pd.concat([final_df, slateq_spec_df])"
   ]
  },
  {
   "cell_type": "code",
   "execution_count": 29,
   "metadata": {},
   "outputs": [
    {
     "name": "stderr",
     "output_type": "stream",
     "text": [
      "100%|██████████| 4/4 [00:00<00:00,  7.20it/s]\n"
     ]
    }
   ],
   "source": [
    "res_df_list = []\n",
    "for seed in tqdm(SEEDS):\n",
    "    slateq_dict = pickle.load(open(base_path / Path(f\"wp_slate_specialist_{seed}\")/ \"logs_dict.pickle\", \"rb\"))\n",
    "    res_df = parse_data(slateq_dict, \"SlateWP_Spec\", seed)\n",
    "    res_df_list.append(res_df)\n",
    "# concat all results\n",
    "slatewp_spec_df = pd.concat(res_df_list)\n",
    "final_df = pd.concat([final_df, slatewp_spec_df])"
   ]
  },
  {
   "cell_type": "code",
   "execution_count": 30,
   "metadata": {},
   "outputs": [
    {
     "name": "stderr",
     "output_type": "stream",
     "text": [
      "100%|██████████| 4/4 [00:00<00:00,  7.51it/s]\n"
     ]
    }
   ],
   "source": [
    "res_df_list = []\n",
    "for seed in tqdm(SEEDS):\n",
    "    slateq_dict = pickle.load(open(base_path / Path(f\"wp_slate_generalist_{seed}\")/ \"logs_dict.pickle\", \"rb\"))\n",
    "    res_df = parse_data(slateq_dict, \"SlateWP_Gen\", seed)\n",
    "    res_df_list.append(res_df)\n",
    "# concat all results\n",
    "slatewp_gen_df = pd.concat(res_df_list)\n",
    "final_df = pd.concat([final_df, slatewp_gen_df])"
   ]
  },
  {
   "cell_type": "code",
   "execution_count": 31,
   "metadata": {},
   "outputs": [
    {
     "name": "stderr",
     "output_type": "stream",
     "text": [
      "100%|██████████| 4/4 [00:00<00:00,  5.69it/s]\n"
     ]
    }
   ],
   "source": [
    "res_df_list = []\n",
    "for seed in tqdm(SEEDS):\n",
    "    slateq_dict = pickle.load(open(base_path / Path(f\"greedy_specialist_{seed}\")/ \"logs_dict.pickle\", \"rb\"))\n",
    "    res_df = parse_data(slateq_dict, \"Greedy_Spec\", seed)\n",
    "    res_df_list.append(res_df)\n",
    "# concat all results\n",
    "greedy_spec_df = pd.concat(res_df_list)\n",
    "final_df = pd.concat([final_df, greedy_spec_df])"
   ]
  },
  {
   "cell_type": "code",
   "execution_count": 32,
   "metadata": {},
   "outputs": [
    {
     "name": "stderr",
     "output_type": "stream",
     "text": [
      "100%|██████████| 4/4 [00:00<00:00,  7.32it/s]\n"
     ]
    }
   ],
   "source": [
    "res_df_list = []\n",
    "for seed in tqdm(SEEDS):\n",
    "    slateq_dict = pickle.load(open(base_path / Path(f\"greedy_generalist_{seed}\")/ \"logs_dict.pickle\", \"rb\"))\n",
    "    res_df = parse_data(slateq_dict, \"Greedy_Gen\", seed)\n",
    "    res_df_list.append(res_df)\n",
    "# concat all results\n",
    "greedy_gen_df = pd.concat(res_df_list)\n",
    "final_df = pd.concat([final_df, greedy_gen_df])"
   ]
  },
  {
   "cell_type": "code",
   "execution_count": 33,
   "metadata": {},
   "outputs": [
    {
     "name": "stderr",
     "output_type": "stream",
     "text": [
      "100%|██████████| 4/4 [00:00<00:00,  7.26it/s]\n"
     ]
    }
   ],
   "source": [
    "res_df_list = []\n",
    "for seed in tqdm(SEEDS):\n",
    "    slateq_dict = pickle.load(open(base_path / Path(f\"random_generalist_{seed}\")/ \"logs_dict.pickle\", \"rb\"))\n",
    "    res_df = parse_data(slateq_dict, \"Random_Gen\", seed)\n",
    "    res_df_list.append(res_df)\n",
    "# concat all results\n",
    "random_gen_df = pd.concat(res_df_list)\n",
    "final_df = pd.concat([final_df, random_gen_df])"
   ]
  },
  {
   "cell_type": "code",
   "execution_count": 34,
   "metadata": {},
   "outputs": [
    {
     "name": "stderr",
     "output_type": "stream",
     "text": [
      "100%|██████████| 4/4 [00:00<00:00, 11.39it/s]\n"
     ]
    }
   ],
   "source": [
    "res_df_list = []\n",
    "for seed in tqdm(SEEDS):\n",
    "    slateq_dict = pickle.load(open(base_path / Path(f\"random_specialist_{seed}\")/ \"logs_dict.pickle\", \"rb\"))\n",
    "    res_df = parse_data(slateq_dict, \"Random_Spec\", seed)\n",
    "    res_df_list.append(res_df)\n",
    "# concat all results\n",
    "random_spec_df = pd.concat(res_df_list)\n",
    "final_df = pd.concat([final_df, random_spec_df])"
   ]
  },
  {
   "cell_type": "code",
   "execution_count": 35,
   "metadata": {},
   "outputs": [
    {
     "data": {
      "text/html": [
       "<div>\n",
       "<style scoped>\n",
       "    .dataframe tbody tr th:only-of-type {\n",
       "        vertical-align: middle;\n",
       "    }\n",
       "\n",
       "    .dataframe tbody tr th {\n",
       "        vertical-align: top;\n",
       "    }\n",
       "\n",
       "    .dataframe thead th {\n",
       "        text-align: right;\n",
       "    }\n",
       "</style>\n",
       "<table border=\"1\" class=\"dataframe\">\n",
       "  <thead>\n",
       "    <tr style=\"text-align: right;\">\n",
       "      <th></th>\n",
       "      <th>episode</th>\n",
       "      <th>hit_documents</th>\n",
       "      <th>ep_cum_satisfaction</th>\n",
       "      <th>ep_avg_satisfaction</th>\n",
       "      <th>diverse_score</th>\n",
       "      <th>user_satisfaction</th>\n",
       "      <th>relevance</th>\n",
       "      <th>alg_name</th>\n",
       "      <th>seed</th>\n",
       "    </tr>\n",
       "  </thead>\n",
       "  <tbody>\n",
       "    <tr>\n",
       "      <th>0</th>\n",
       "      <td>0</td>\n",
       "      <td>0.333333</td>\n",
       "      <td>2.240666</td>\n",
       "      <td>0.746889</td>\n",
       "      <td>5</td>\n",
       "      <td>0.934161</td>\n",
       "      <td>0.903118</td>\n",
       "      <td>SlateQ_Gen</td>\n",
       "      <td>1</td>\n",
       "    </tr>\n",
       "    <tr>\n",
       "      <th>1</th>\n",
       "      <td>1</td>\n",
       "      <td>0.500000</td>\n",
       "      <td>1.580026</td>\n",
       "      <td>0.790013</td>\n",
       "      <td>7</td>\n",
       "      <td>0.933813</td>\n",
       "      <td>0.896881</td>\n",
       "      <td>SlateQ_Gen</td>\n",
       "      <td>1</td>\n",
       "    </tr>\n",
       "    <tr>\n",
       "      <th>2</th>\n",
       "      <td>2</td>\n",
       "      <td>0.666667</td>\n",
       "      <td>2.191263</td>\n",
       "      <td>0.730421</td>\n",
       "      <td>7</td>\n",
       "      <td>0.985698</td>\n",
       "      <td>1.000000</td>\n",
       "      <td>SlateQ_Gen</td>\n",
       "      <td>1</td>\n",
       "    </tr>\n",
       "    <tr>\n",
       "      <th>3</th>\n",
       "      <td>3</td>\n",
       "      <td>1.000000</td>\n",
       "      <td>2.511098</td>\n",
       "      <td>0.837033</td>\n",
       "      <td>5</td>\n",
       "      <td>0.956170</td>\n",
       "      <td>1.000000</td>\n",
       "      <td>SlateQ_Gen</td>\n",
       "      <td>1</td>\n",
       "    </tr>\n",
       "    <tr>\n",
       "      <th>4</th>\n",
       "      <td>4</td>\n",
       "      <td>0.250000</td>\n",
       "      <td>3.040608</td>\n",
       "      <td>0.760152</td>\n",
       "      <td>6</td>\n",
       "      <td>0.965305</td>\n",
       "      <td>0.926073</td>\n",
       "      <td>SlateQ_Gen</td>\n",
       "      <td>1</td>\n",
       "    </tr>\n",
       "    <tr>\n",
       "      <th>...</th>\n",
       "      <td>...</td>\n",
       "      <td>...</td>\n",
       "      <td>...</td>\n",
       "      <td>...</td>\n",
       "      <td>...</td>\n",
       "      <td>...</td>\n",
       "      <td>...</td>\n",
       "      <td>...</td>\n",
       "      <td>...</td>\n",
       "    </tr>\n",
       "    <tr>\n",
       "      <th>495</th>\n",
       "      <td>495</td>\n",
       "      <td>0.666667</td>\n",
       "      <td>2.446146</td>\n",
       "      <td>0.815382</td>\n",
       "      <td>3</td>\n",
       "      <td>0.884961</td>\n",
       "      <td>0.868938</td>\n",
       "      <td>Random_Spec</td>\n",
       "      <td>9</td>\n",
       "    </tr>\n",
       "    <tr>\n",
       "      <th>496</th>\n",
       "      <td>496</td>\n",
       "      <td>0.666667</td>\n",
       "      <td>2.950584</td>\n",
       "      <td>0.491764</td>\n",
       "      <td>5</td>\n",
       "      <td>0.974228</td>\n",
       "      <td>1.000000</td>\n",
       "      <td>Random_Spec</td>\n",
       "      <td>9</td>\n",
       "    </tr>\n",
       "    <tr>\n",
       "      <th>497</th>\n",
       "      <td>497</td>\n",
       "      <td>0.500000</td>\n",
       "      <td>1.640778</td>\n",
       "      <td>0.820389</td>\n",
       "      <td>6</td>\n",
       "      <td>0.961247</td>\n",
       "      <td>0.926101</td>\n",
       "      <td>Random_Spec</td>\n",
       "      <td>9</td>\n",
       "    </tr>\n",
       "    <tr>\n",
       "      <th>498</th>\n",
       "      <td>498</td>\n",
       "      <td>0.000000</td>\n",
       "      <td>1.615212</td>\n",
       "      <td>0.807606</td>\n",
       "      <td>5</td>\n",
       "      <td>0.984998</td>\n",
       "      <td>0.963644</td>\n",
       "      <td>Random_Spec</td>\n",
       "      <td>9</td>\n",
       "    </tr>\n",
       "    <tr>\n",
       "      <th>499</th>\n",
       "      <td>499</td>\n",
       "      <td>0.000000</td>\n",
       "      <td>2.531133</td>\n",
       "      <td>0.843711</td>\n",
       "      <td>5</td>\n",
       "      <td>0.975880</td>\n",
       "      <td>0.976449</td>\n",
       "      <td>Random_Spec</td>\n",
       "      <td>9</td>\n",
       "    </tr>\n",
       "  </tbody>\n",
       "</table>\n",
       "<p>16000 rows × 9 columns</p>\n",
       "</div>"
      ],
      "text/plain": [
       "     episode  hit_documents  ep_cum_satisfaction  ep_avg_satisfaction  \\\n",
       "0          0       0.333333             2.240666             0.746889   \n",
       "1          1       0.500000             1.580026             0.790013   \n",
       "2          2       0.666667             2.191263             0.730421   \n",
       "3          3       1.000000             2.511098             0.837033   \n",
       "4          4       0.250000             3.040608             0.760152   \n",
       "..       ...            ...                  ...                  ...   \n",
       "495      495       0.666667             2.446146             0.815382   \n",
       "496      496       0.666667             2.950584             0.491764   \n",
       "497      497       0.500000             1.640778             0.820389   \n",
       "498      498       0.000000             1.615212             0.807606   \n",
       "499      499       0.000000             2.531133             0.843711   \n",
       "\n",
       "     diverse_score  user_satisfaction  relevance     alg_name  seed  \n",
       "0                5           0.934161   0.903118   SlateQ_Gen     1  \n",
       "1                7           0.933813   0.896881   SlateQ_Gen     1  \n",
       "2                7           0.985698   1.000000   SlateQ_Gen     1  \n",
       "3                5           0.956170   1.000000   SlateQ_Gen     1  \n",
       "4                6           0.965305   0.926073   SlateQ_Gen     1  \n",
       "..             ...                ...        ...          ...   ...  \n",
       "495              3           0.884961   0.868938  Random_Spec     9  \n",
       "496              5           0.974228   1.000000  Random_Spec     9  \n",
       "497              6           0.961247   0.926101  Random_Spec     9  \n",
       "498              5           0.984998   0.963644  Random_Spec     9  \n",
       "499              5           0.975880   0.976449  Random_Spec     9  \n",
       "\n",
       "[16000 rows x 9 columns]"
      ]
     },
     "execution_count": 35,
     "metadata": {},
     "output_type": "execute_result"
    }
   ],
   "source": [
    "final_df"
   ]
  },
  {
   "cell_type": "code",
   "execution_count": 36,
   "metadata": {},
   "outputs": [],
   "source": [
    "final_df = final_df.reset_index(drop=True)"
   ]
  },
  {
   "cell_type": "code",
   "execution_count": 37,
   "metadata": {},
   "outputs": [],
   "source": [
    "final_df['diverse_score'] /= 18"
   ]
  },
  {
   "cell_type": "code",
   "execution_count": 38,
   "metadata": {},
   "outputs": [],
   "source": [
    "from scipy.stats import levene\n",
    "from scipy.stats import shapiro\n",
    "from scipy.stats import ttest_rel\n",
    "from scipy.stats import wilcoxon\n",
    "def stat_test(r1,r2):\n",
    "    print(levene(r1, r2))\n",
    "    differences = [a-b for a,b in zip(r1, r2)]\n",
    "    print(shapiro(differences))\n",
    "    print(ttest_rel(r1, r2))\n",
    "    print(wilcoxon(r1, r2))"
   ]
  },
  {
   "cell_type": "code",
   "execution_count": 47,
   "metadata": {},
   "outputs": [
    {
     "name": "stdout",
     "output_type": "stream",
     "text": [
      "===== RandomGen | SlateQGen =====\n",
      "===== Avg_Satisfaction =====\n",
      "RandomGen 0.7331492991484702 0.01125922393715332\n",
      "slateqGen 0.7433408668027259 0.004013879441680596\n",
      "LeveneResult(statistic=1.1130764065701808, pvalue=0.3320329174196939)\n",
      "ShapiroResult(statistic=0.8202669957472594, pvalue=0.1438134660000947)\n",
      "TtestResult(statistic=-2.43305437586624, pvalue=0.09307561765618898, df=3)\n",
      "WilcoxonResult(statistic=1.0, pvalue=0.25)\n",
      "===== Hit Ratio =====\n",
      "RandomGen 0.16301190580986438 0.011826346131694145\n",
      "slateqGen 0.26953184276819225 0.014020690500779753\n",
      "LeveneResult(statistic=0.2771619213667985, pvalue=0.6174528243166244)\n",
      "ShapiroResult(statistic=0.8720984540928692, pvalue=0.30598587611188666)\n",
      "TtestResult(statistic=-7.2701819157177745, pvalue=0.00537054785866752, df=3)\n",
      "WilcoxonResult(statistic=0.0, pvalue=0.125)\n",
      "===== Diverse Score =====\n",
      "RandomGen 0.3288888888888889 0.0023791792339293233\n",
      "slateqGen 0.3424722222222222 0.0011742478548804577\n",
      "LeveneResult(statistic=0.178711333243283, pvalue=0.6872146623170234)\n",
      "ShapiroResult(statistic=0.9626158865031273, pvalue=0.7953595333793582)\n",
      "TtestResult(statistic=-9.897487670496304, pvalue=0.002193621240866769, df=3)\n",
      "WilcoxonResult(statistic=0.0, pvalue=0.125)\n"
     ]
    }
   ],
   "source": [
    "\n",
    "print(\"===== RandomGen | SlateQGen =====\")\n",
    "sq_return = final_df.groupby([\"alg_name\", \"seed\"]).mean()[\"ep_avg_satisfaction\"][\"SlateWP_Gen\"].values\n",
    "slateq_return = final_df.groupby([\"alg_name\", \"seed\"]).mean()[\"ep_avg_satisfaction\"][\"SlateQ_Gen\"].values\n",
    "print(\"===== Avg_Satisfaction =====\")\n",
    "print(\"RandomGen\",sq_return.mean(), sq_return.std())\n",
    "print(\"slateqGen\",slateq_return.mean(), slateq_return.std())\n",
    "stat_test(sq_return, slateq_return)\n",
    "print(\"===== Hit Ratio =====\")\n",
    "sq_cum_satisfaction = final_df.groupby([\"alg_name\", \"seed\"]).mean()[\"hit_documents\"][\"SlateWP_Gen\"].values\n",
    "slateq_cum_satisfaction = final_df.groupby([\"alg_name\", \"seed\"]).mean()[\"hit_documents\"][\"SlateQ_Gen\"].values\n",
    "print(\"RandomGen\",sq_cum_satisfaction.mean(), sq_cum_satisfaction.std())\n",
    "print(\"slateqGen\",slateq_cum_satisfaction.mean(), slateq_cum_satisfaction.std())\n",
    "stat_test(sq_cum_satisfaction, slateq_cum_satisfaction)\n",
    "print(\"===== Diverse Score =====\")\n",
    "sq_avg_satisfaction = final_df.groupby([\"alg_name\", \"seed\"]).mean()[\"diverse_score\"][\"SlateWP_Gen\"].values\n",
    "slateq_avg_satisfaction = final_df.groupby([\"alg_name\", \"seed\"]).mean()[\"diverse_score\"][\"SlateQ_Gen\"].values\n",
    "print(\"RandomGen\",sq_avg_satisfaction.mean(), sq_avg_satisfaction.std())\n",
    "print(\"slateqGen\",slateq_avg_satisfaction.mean(), slateq_avg_satisfaction.std())\n",
    "stat_test(sq_avg_satisfaction, slateq_avg_satisfaction)"
   ]
  },
  {
   "cell_type": "code",
   "execution_count": 48,
   "metadata": {},
   "outputs": [
    {
     "name": "stdout",
     "output_type": "stream",
     "text": [
      "===== RandomGen | GreedyGen =====\n",
      "===== Avg_Satisfaction =====\n",
      "RandomGen 0.7331492991484702 0.01125922393715332\n",
      "GreedyGen 0.7407609611582011 0.010511547004334192\n",
      "LeveneResult(statistic=0.05176570266935993, pvalue=0.8275735069445337)\n",
      "ShapiroResult(statistic=0.9722407571006152, pvalue=0.8553066925948043)\n",
      "TtestResult(statistic=-1.004359862890938, pvalue=0.3892033572528802, df=3)\n",
      "WilcoxonResult(statistic=3.0, pvalue=0.625)\n",
      "===== Hit Ratio =====\n",
      "RandomGen 0.16301190580986438 0.011826346131694145\n",
      "GreedyGen 0.27128289867565036 0.010187151184775391\n",
      "LeveneResult(statistic=0.08958117060772731, pvalue=0.7748070748745793)\n",
      "ShapiroResult(statistic=0.8707849109283736, pvalue=0.30077049717702975)\n",
      "TtestResult(statistic=-15.69294116877692, pvalue=0.0005623999557759641, df=3)\n",
      "WilcoxonResult(statistic=0.0, pvalue=0.125)\n",
      "===== Diverse Score =====\n",
      "RandomGen 0.3288888888888889 0.0023791792339293233\n",
      "GreedyGen 0.31652777777777774 0.0029683255869468214\n",
      "LeveneResult(statistic=0.9698397737982354, pvalue=0.3627508278889141)\n",
      "ShapiroResult(statistic=0.8693533236889058, pvalue=0.2951550826220094)\n",
      "TtestResult(statistic=4.32256192489948, pvalue=0.0228199437357715, df=3)\n",
      "WilcoxonResult(statistic=0.0, pvalue=0.125)\n"
     ]
    }
   ],
   "source": [
    "print(\"===== RandomGen | GreedyGen =====\")\n",
    "sq_return = final_df.groupby([\"alg_name\", \"seed\"]).mean()[\"ep_avg_satisfaction\"][\"SlateWP_Gen\"].values\n",
    "Greedy_return = final_df.groupby([\"alg_name\", \"seed\"]).mean()[\"ep_avg_satisfaction\"][\"Random_Gen\"].values\n",
    "print(\"===== Avg_Satisfaction =====\")\n",
    "print(\"RandomGen\",sq_return.mean(), sq_return.std())\n",
    "print(\"GreedyGen\",Greedy_return.mean(), Greedy_return.std())\n",
    "stat_test(sq_return, Greedy_return)\n",
    "print(\"===== Hit Ratio =====\")\n",
    "sq_cum_satisfaction = final_df.groupby([\"alg_name\", \"seed\"]).mean()[\"hit_documents\"][\"SlateWP_Gen\"].values\n",
    "Greedy_cum_satisfaction = final_df.groupby([\"alg_name\", \"seed\"]).mean()[\"hit_documents\"][\"Random_Gen\"].values\n",
    "print(\"RandomGen\",sq_cum_satisfaction.mean(), sq_cum_satisfaction.std())\n",
    "print(\"GreedyGen\",Greedy_cum_satisfaction.mean(), Greedy_cum_satisfaction.std())\n",
    "stat_test(sq_cum_satisfaction, Greedy_cum_satisfaction)\n",
    "print(\"===== Diverse Score =====\")\n",
    "sq_avg_satisfaction = final_df.groupby([\"alg_name\", \"seed\"]).mean()[\"diverse_score\"][\"SlateWP_Gen\"].values\n",
    "Greedy_avg_satisfaction = final_df.groupby([\"alg_name\", \"seed\"]).mean()[\"diverse_score\"][\"Random_Gen\"].values\n",
    "print(\"RandomGen\",sq_avg_satisfaction.mean(), sq_avg_satisfaction.std())\n",
    "print(\"GreedyGen\",Greedy_avg_satisfaction.mean(), Greedy_avg_satisfaction.std())\n",
    "stat_test(sq_avg_satisfaction, Greedy_avg_satisfaction)"
   ]
  },
  {
   "cell_type": "code",
   "execution_count": 49,
   "metadata": {},
   "outputs": [
    {
     "name": "stdout",
     "output_type": "stream",
     "text": [
      "===== RandomGen | SlateWPGen =====\n",
      "===== Avg_Satisfaction =====\n",
      "RandomGen 0.7331492991484702 0.01125922393715332\n",
      "WPGen 0.742077767123701 0.0043026094255041395\n",
      "LeveneResult(statistic=1.0245999125127816, pvalue=0.350495063326405)\n",
      "ShapiroResult(statistic=0.9403090407435813, pvalue=0.6562119804523058)\n",
      "TtestResult(statistic=-2.0113980341971307, pvalue=0.13779699108272245, df=3)\n",
      "WilcoxonResult(statistic=1.0, pvalue=0.25)\n",
      "===== Hit Ratio =====\n",
      "RandomGen 0.16301190580986438 0.011826346131694145\n",
      "WPGen 0.2558402444701642 0.015737376369610635\n",
      "LeveneResult(statistic=0.2453721298502776, pvalue=0.6379691854502294)\n",
      "ShapiroResult(statistic=0.8436141993470602, pvalue=0.20614683915337473)\n",
      "TtestResult(statistic=-5.893184049921394, pvalue=0.009753027677821977, df=3)\n",
      "WilcoxonResult(statistic=0.0, pvalue=0.125)\n",
      "===== Diverse Score =====\n",
      "RandomGen 0.3288888888888889 0.0023791792339293233\n",
      "WPGen 0.34391666666666665 0.000640095478989044\n",
      "LeveneResult(statistic=0.5479349932906069, pvalue=0.48710644125878116)\n",
      "ShapiroResult(statistic=0.6940497929159896, pvalue=0.009878241969010848)\n",
      "TtestResult(statistic=-8.946121351176172, pvalue=0.002946919499407067, df=3)\n",
      "WilcoxonResult(statistic=0.0, pvalue=0.125)\n"
     ]
    }
   ],
   "source": [
    "print(\"===== RandomGen | SlateWPGen =====\")\n",
    "sq_return = final_df.groupby([\"alg_name\", \"seed\"]).mean()[\"ep_avg_satisfaction\"][\"SlateWP_Gen\"].values\n",
    "wp_return = final_df.groupby([\"alg_name\", \"seed\"]).mean()[\"ep_avg_satisfaction\"][\"Greedy_Gen\"].values\n",
    "print(\"===== Avg_Satisfaction =====\")\n",
    "print(\"RandomGen\",sq_return.mean(), sq_return.std())\n",
    "print(\"WPGen\",wp_return.mean(), wp_return.std())\n",
    "stat_test(sq_return, wp_return)\n",
    "print(\"===== Hit Ratio =====\")\n",
    "sq_cum_satisfaction = final_df.groupby([\"alg_name\", \"seed\"]).mean()[\"hit_documents\"][\"SlateWP_Gen\"].values\n",
    "wp_cum_satisfaction = final_df.groupby([\"alg_name\", \"seed\"]).mean()[\"hit_documents\"][\"Greedy_Gen\"].values\n",
    "print(\"RandomGen\",sq_cum_satisfaction.mean(), sq_cum_satisfaction.std())\n",
    "print(\"WPGen\",wp_cum_satisfaction.mean(), wp_cum_satisfaction.std())\n",
    "stat_test(sq_cum_satisfaction, wp_cum_satisfaction)\n",
    "print(\"===== Diverse Score =====\")\n",
    "sq_avg_satisfaction = final_df.groupby([\"alg_name\", \"seed\"]).mean()[\"diverse_score\"][\"SlateWP_Gen\"].values\n",
    "wp_avg_satisfaction = final_df.groupby([\"alg_name\", \"seed\"]).mean()[\"diverse_score\"][\"Greedy_Gen\"].values\n",
    "print(\"RandomGen\",sq_avg_satisfaction.mean(), sq_avg_satisfaction.std())\n",
    "print(\"WPGen\",wp_avg_satisfaction.mean(), wp_avg_satisfaction.std())\n",
    "stat_test(sq_avg_satisfaction, wp_avg_satisfaction)\n"
   ]
  },
  {
   "cell_type": "code",
   "execution_count": 50,
   "metadata": {},
   "outputs": [
    {
     "name": "stdout",
     "output_type": "stream",
     "text": [
      "===== RandomSpec | SlateQSpec =====\n",
      "===== Avg_Satisfaction =====\n",
      "RandomSpec 0.7499277144595982 0.0061448907809963415\n",
      "slateqSpec 0.7608782651536168 0.0069613110825593625\n",
      "LeveneResult(statistic=4.956719747763589e-05, pvalue=0.9946108702057739)\n",
      "ShapiroResult(statistic=0.7891824600233532, pvalue=0.08419349379523336)\n",
      "TtestResult(statistic=-4.301247930243883, pvalue=0.02312239567393783, df=3)\n",
      "WilcoxonResult(statistic=0.0, pvalue=0.125)\n",
      "===== Hit Ratio =====\n",
      "RandomSpec 0.14941229179129006 0.014887689857188002\n",
      "slateqSpec 0.25085416935011745 0.009269971472765651\n",
      "LeveneResult(statistic=0.3141544280380546, pvalue=0.5954352699206701)\n",
      "ShapiroResult(statistic=0.8517489219503263, pvalue=0.2318746508040952)\n",
      "TtestResult(statistic=-9.92680783260033, pvalue=0.002174699308154693, df=3)\n",
      "WilcoxonResult(statistic=0.0, pvalue=0.125)\n",
      "===== Diverse Score =====\n",
      "RandomSpec 0.3263888888888889 0.004219662967057381\n",
      "slateqSpec 0.33702777777777776 0.0034429880433522633\n",
      "LeveneResult(statistic=0.0016775396085742813, pvalue=0.9686584545976549)\n",
      "ShapiroResult(statistic=0.9529468681890377, pvalue=0.7345627252957277)\n",
      "TtestResult(statistic=-4.64239582257967, pvalue=0.018839571863358696, df=3)\n",
      "WilcoxonResult(statistic=0.0, pvalue=0.125)\n"
     ]
    }
   ],
   "source": [
    "print(\"===== RandomSpec | SlateQSpec =====\")\n",
    "sq_return = final_df.groupby([\"alg_name\", \"seed\"]).mean()[\"ep_avg_satisfaction\"][\"SlateWP_Spec\"].values\n",
    "slateq_return = final_df.groupby([\"alg_name\", \"seed\"]).mean()[\"ep_avg_satisfaction\"][\"SlateQ_Spec\"].values\n",
    "print(\"===== Avg_Satisfaction =====\")\n",
    "print(\"RandomSpec\",sq_return.mean(), sq_return.std())\n",
    "print(\"slateqSpec\",slateq_return.mean(), slateq_return.std())\n",
    "stat_test(sq_return, slateq_return)\n",
    "print(\"===== Hit Ratio =====\")\n",
    "sq_cum_satisfaction = final_df.groupby([\"alg_name\", \"seed\"]).mean()[\"hit_documents\"][\"SlateWP_Spec\"].values\n",
    "slateq_cum_satisfaction = final_df.groupby([\"alg_name\", \"seed\"]).mean()[\"hit_documents\"][\"SlateQ_Spec\"].values\n",
    "print(\"RandomSpec\",sq_cum_satisfaction.mean(), sq_cum_satisfaction.std())\n",
    "print(\"slateqSpec\",slateq_cum_satisfaction.mean(), slateq_cum_satisfaction.std())\n",
    "stat_test(sq_cum_satisfaction, slateq_cum_satisfaction)\n",
    "print(\"===== Diverse Score =====\")\n",
    "sq_avg_satisfaction = final_df.groupby([\"alg_name\", \"seed\"]).mean()[\"diverse_score\"][\"SlateWP_Spec\"].values\n",
    "slateq_avg_satisfaction = final_df.groupby([\"alg_name\", \"seed\"]).mean()[\"diverse_score\"][\"SlateQ_Spec\"].values\n",
    "print(\"RandomSpec\",sq_avg_satisfaction.mean(), sq_avg_satisfaction.std())\n",
    "print(\"slateqSpec\",slateq_avg_satisfaction.mean(), slateq_avg_satisfaction.std())\n",
    "stat_test(sq_avg_satisfaction, slateq_avg_satisfaction)"
   ]
  },
  {
   "cell_type": "code",
   "execution_count": 51,
   "metadata": {},
   "outputs": [
    {
     "name": "stdout",
     "output_type": "stream",
     "text": [
      "===== RandomSpec | GreedySpec =====\n",
      "===== Avg_Satisfaction =====\n",
      "RandomSpec 0.7499277144595982 0.0061448907809963415\n",
      "GreedySpec 0.7528846669979393 0.006473899260272004\n",
      "LeveneResult(statistic=0.3904411943880018, pvalue=0.5550701001481236)\n",
      "ShapiroResult(statistic=0.9911810388865305, pvalue=0.963439970011198)\n",
      "TtestResult(statistic=-1.2760497382305056, pvalue=0.291767552578006, df=3)\n",
      "WilcoxonResult(statistic=2.0, pvalue=0.375)\n",
      "===== Hit Ratio =====\n",
      "RandomSpec 0.14941229179129006 0.014887689857188002\n",
      "GreedySpec 0.2243195896372199 0.008464534463789105\n",
      "LeveneResult(statistic=0.28835510099437506, pvalue=0.6105952422334183)\n",
      "ShapiroResult(statistic=0.9581723370662022, pvalue=0.7674069261529004)\n",
      "TtestResult(statistic=-13.368553971859942, pvalue=0.0009047690690808592, df=3)\n",
      "WilcoxonResult(statistic=0.0, pvalue=0.125)\n",
      "===== Diverse Score =====\n",
      "RandomSpec 0.3263888888888889 0.004219662967057381\n",
      "GreedySpec 0.3104166666666667 0.003719630109049562\n",
      "LeveneResult(statistic=0.007989564650251298, pvalue=0.9316854511520495)\n",
      "ShapiroResult(statistic=0.9706468996148947, pvalue=0.8454853104956765)\n",
      "TtestResult(statistic=4.517859063716031, pvalue=0.02027333784557981, df=3)\n",
      "WilcoxonResult(statistic=0.0, pvalue=0.125)\n"
     ]
    }
   ],
   "source": [
    "print(\"===== RandomSpec | GreedySpec =====\")\n",
    "sq_return = final_df.groupby([\"alg_name\", \"seed\"]).mean()[\"ep_avg_satisfaction\"][\"SlateWP_Spec\"].values\n",
    "Greedy_return = final_df.groupby([\"alg_name\", \"seed\"]).mean()[\"ep_avg_satisfaction\"][\"Random_Spec\"].values\n",
    "print(\"===== Avg_Satisfaction =====\")\n",
    "print(\"RandomSpec\",sq_return.mean(), sq_return.std())\n",
    "print(\"GreedySpec\",Greedy_return.mean(), Greedy_return.std())\n",
    "stat_test(sq_return, Greedy_return)\n",
    "print(\"===== Hit Ratio =====\")\n",
    "sq_cum_satisfaction = final_df.groupby([\"alg_name\", \"seed\"]).mean()[\"hit_documents\"][\"SlateWP_Spec\"].values\n",
    "Greedy_cum_satisfaction = final_df.groupby([\"alg_name\", \"seed\"]).mean()[\"hit_documents\"][\"Random_Spec\"].values\n",
    "print(\"RandomSpec\",sq_cum_satisfaction.mean(), sq_cum_satisfaction.std())\n",
    "print(\"GreedySpec\",Greedy_cum_satisfaction.mean(), Greedy_cum_satisfaction.std())\n",
    "stat_test(sq_cum_satisfaction, Greedy_cum_satisfaction)\n",
    "print(\"===== Diverse Score =====\")\n",
    "sq_avg_satisfaction = final_df.groupby([\"alg_name\", \"seed\"]).mean()[\"diverse_score\"][\"SlateWP_Spec\"].values\n",
    "Greedy_avg_satisfaction = final_df.groupby([\"alg_name\", \"seed\"]).mean()[\"diverse_score\"][\"Random_Spec\"].values\n",
    "print(\"RandomSpec\",sq_avg_satisfaction.mean(), sq_avg_satisfaction.std())\n",
    "print(\"GreedySpec\",Greedy_avg_satisfaction.mean(), Greedy_avg_satisfaction.std())\n",
    "stat_test(sq_avg_satisfaction, Greedy_avg_satisfaction)"
   ]
  },
  {
   "cell_type": "code",
   "execution_count": 52,
   "metadata": {},
   "outputs": [
    {
     "name": "stdout",
     "output_type": "stream",
     "text": [
      "===== RandomSpec | SlateWPSpec =====\n",
      "===== Avg_Satisfaction =====\n",
      "RandomSpec 0.7499277144595982 0.0061448907809963415\n",
      "WPSpec 0.7565885217897593 0.006296898786224263\n",
      "LeveneResult(statistic=5.23369302808821e-06, pvalue=0.9982488258889094)\n",
      "ShapiroResult(statistic=0.8549882132573158, pvalue=0.24272782224038153)\n",
      "TtestResult(statistic=-3.6481069977451455, pvalue=0.035539368837945416, df=3)\n",
      "WilcoxonResult(statistic=0.0, pvalue=0.125)\n",
      "===== Hit Ratio =====\n",
      "RandomSpec 0.14941229179129006 0.014887689857188002\n",
      "WPSpec 0.23476405919343235 0.006925620970305998\n",
      "LeveneResult(statistic=0.5333637593236832, pvalue=0.49271440945739625)\n",
      "ShapiroResult(statistic=0.7381132171101031, pvalue=0.02970379368816965)\n",
      "TtestResult(statistic=-7.787490140893448, pvalue=0.0044063634830143646, df=3)\n",
      "WilcoxonResult(statistic=0.0, pvalue=0.125)\n",
      "===== Diverse Score =====\n",
      "RandomSpec 0.3263888888888889 0.004219662967057381\n",
      "WPSpec 0.3391388888888889 0.003510456162542967\n",
      "LeveneResult(statistic=0.0014516909511255998, pvalue=0.9708431793935977)\n",
      "ShapiroResult(statistic=0.7738109442147896, pvalue=0.06294916921829975)\n",
      "TtestResult(statistic=-13.926152051241079, pvalue=0.0008016298743615214, df=3)\n",
      "WilcoxonResult(statistic=0.0, pvalue=0.125)\n"
     ]
    }
   ],
   "source": [
    "print(\"===== RandomSpec | SlateWPSpec =====\")\n",
    "sq_return = final_df.groupby([\"alg_name\", \"seed\"]).mean()[\"ep_avg_satisfaction\"][\"SlateWP_Spec\"].values\n",
    "wp_return = final_df.groupby([\"alg_name\", \"seed\"]).mean()[\"ep_avg_satisfaction\"][\"Greedy_Spec\"].values\n",
    "print(\"===== Avg_Satisfaction =====\")\n",
    "print(\"RandomSpec\",sq_return.mean(), sq_return.std())\n",
    "print(\"WPSpec\",wp_return.mean(), wp_return.std())\n",
    "stat_test(sq_return, wp_return)\n",
    "print(\"===== Hit Ratio =====\")\n",
    "sq_cum_satisfaction = final_df.groupby([\"alg_name\", \"seed\"]).mean()[\"hit_documents\"][\"SlateWP_Spec\"].values\n",
    "wp_cum_satisfaction = final_df.groupby([\"alg_name\", \"seed\"]).mean()[\"hit_documents\"][\"Greedy_Spec\"].values\n",
    "print(\"RandomSpec\",sq_cum_satisfaction.mean(), sq_cum_satisfaction.std())\n",
    "print(\"WPSpec\",wp_cum_satisfaction.mean(), wp_cum_satisfaction.std())\n",
    "stat_test(sq_cum_satisfaction, wp_cum_satisfaction)\n",
    "print(\"===== Diverse Score =====\")\n",
    "sq_avg_satisfaction = final_df.groupby([\"alg_name\", \"seed\"]).mean()[\"diverse_score\"][\"SlateWP_Spec\"].values\n",
    "wp_avg_satisfaction = final_df.groupby([\"alg_name\", \"seed\"]).mean()[\"diverse_score\"][\"Greedy_Spec\"].values\n",
    "print(\"RandomSpec\",sq_avg_satisfaction.mean(), sq_avg_satisfaction.std())\n",
    "print(\"WPSpec\",wp_avg_satisfaction.mean(), wp_avg_satisfaction.std())\n",
    "stat_test(sq_avg_satisfaction, wp_avg_satisfaction)"
   ]
  },
  {
   "cell_type": "code",
   "execution_count": null,
   "metadata": {},
   "outputs": [],
   "source": []
  }
 ],
 "metadata": {
  "kernelspec": {
   "display_name": ".venv",
   "language": "python",
   "name": "python3"
  },
  "language_info": {
   "codemirror_mode": {
    "name": "ipython",
    "version": 3
   },
   "file_extension": ".py",
   "mimetype": "text/x-python",
   "name": "python",
   "nbconvert_exporter": "python",
   "pygments_lexer": "ipython3",
   "version": "3.11.6"
  }
 },
 "nbformat": 4,
 "nbformat_minor": 2
}
