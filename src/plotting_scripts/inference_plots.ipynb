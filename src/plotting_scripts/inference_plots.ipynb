{
 "cells": [
  {
   "cell_type": "code",
   "execution_count": 1,
   "metadata": {},
   "outputs": [
    {
     "name": "stderr",
     "output_type": "stream",
     "text": [
      "/home/aayush/rl_mind_dataset/.venv/lib/python3.11/site-packages/tqdm/auto.py:21: TqdmWarning: IProgress not found. Please update jupyter and ipywidgets. See https://ipywidgets.readthedocs.io/en/stable/user_install.html\n",
      "  from .autonotebook import tqdm as notebook_tqdm\n"
     ]
    }
   ],
   "source": [
    "import os \n",
    "from pathlib import Path\n",
    "from dotenv import load_dotenv\n",
    "import pickle\n",
    "import pandas as pd\n",
    "import numpy as np\n",
    "import torch\n",
    "from tqdm import tqdm\n",
    "import seaborn as sns\n",
    "import matplotlib.pyplot as plt\n",
    "from scipy.stats import norm\n",
    "from setup_plot import setup_plot\n",
    "import matplotlib.ticker as mtick"
   ]
  },
  {
   "cell_type": "code",
   "execution_count": 2,
   "metadata": {},
   "outputs": [
    {
     "data": {
      "text/plain": [
       "True"
      ]
     },
     "execution_count": 2,
     "metadata": {},
     "output_type": "execute_result"
    }
   ],
   "source": [
    "load_dotenv()"
   ]
  },
  {
   "cell_type": "code",
   "execution_count": 3,
   "metadata": {},
   "outputs": [],
   "source": [
    "import io\n",
    "class CPU_Unpickler(pickle.Unpickler):\n",
    "    def find_class(self, module, name):\n",
    "        if module == 'torch.storage' and name == '_load_from_bytes':\n",
    "            return lambda b: torch.load(io.BytesIO(b), map_location='cpu')\n",
    "        else:\n",
    "            return super().find_class(module, name)"
   ]
  },
  {
   "cell_type": "code",
   "execution_count": 4,
   "metadata": {},
   "outputs": [],
   "source": [
    "base_path = Path.home()/Path(os.environ.get(\"TEST_PATH\"))"
   ]
  },
  {
   "cell_type": "code",
   "execution_count": 5,
   "metadata": {},
   "outputs": [],
   "source": [
    "SEEDS = [5, 42, 97, 33, 99]\n",
    "window = 100"
   ]
  },
  {
   "cell_type": "code",
   "execution_count": 6,
   "metadata": {},
   "outputs": [],
   "source": [
    "def parse_data(data_dict: dict, alg_nam:str, seed: int)->pd.DataFrame:\n",
    "    # convert from torch to float\n",
    "    for k, v in data_dict.items():\n",
    "        if isinstance(v, torch.Tensor):\n",
    "            data_dict[k] = v.item()\n",
    "        elif isinstance(v, list):\n",
    "            if isinstance(v[0], torch.Tensor):\n",
    "                data_dict[k] = [x.item() for x in v]\n",
    "    data_df = pd.DataFrame(data_dict)\n",
    "    data_df[\"alg_name\"] = alg_nam\n",
    "    data_df[\"seed\"] = seed\n",
    "    data_df = data_df.reset_index().rename(columns={\"index\": \"episode\"})\n",
    "    return data_df"
   ]
  },
  {
   "cell_type": "code",
   "execution_count": 7,
   "metadata": {},
   "outputs": [
    {
     "name": "stderr",
     "output_type": "stream",
     "text": [
      "  0%|          | 0/5 [00:00<?, ?it/s]/home/aayush/rl_mind_dataset/.venv/lib/python3.11/site-packages/torch/cuda/__init__.py:497: UserWarning: Can't initialize NVML\n",
      "  warnings.warn(\"Can't initialize NVML\")\n",
      "100%|██████████| 5/5 [00:08<00:00,  1.66s/it]\n"
     ]
    }
   ],
   "source": [
    "res_df_list = []\n",
    "for seed in tqdm(SEEDS):\n",
    "    slateq_dict = pickle.load(open(base_path / Path(f\"slateq_generalist_{seed}\")/ \"logs_dict.pickle\", \"rb\"))\n",
    "    res_df = parse_data(slateq_dict, \"SlateQ_Gen\", seed)\n",
    "    res_df_list.append(res_df)\n",
    "# concat all results\n",
    "final_df = pd.concat(res_df_list)"
   ]
  },
  {
   "cell_type": "code",
   "execution_count": 8,
   "metadata": {},
   "outputs": [
    {
     "name": "stderr",
     "output_type": "stream",
     "text": [
      "100%|██████████| 5/5 [00:00<00:00, 12.72it/s]\n"
     ]
    }
   ],
   "source": [
    "res_df_list = []\n",
    "for seed in tqdm(SEEDS):\n",
    "    slateq_dict = pickle.load(open(base_path / Path(f\"slateq_specialist_{seed}\")/ \"logs_dict.pickle\", \"rb\"))\n",
    "    res_df = parse_data(slateq_dict, \"SlateQ_Spec\", seed)\n",
    "    res_df_list.append(res_df)\n",
    "# concat all results\n",
    "slateq_spec_df = pd.concat(res_df_list)\n",
    "final_df = pd.concat([final_df, slateq_spec_df])"
   ]
  },
  {
   "cell_type": "code",
   "execution_count": 9,
   "metadata": {},
   "outputs": [
    {
     "name": "stderr",
     "output_type": "stream",
     "text": [
      "100%|██████████| 5/5 [00:06<00:00,  1.27s/it]\n"
     ]
    }
   ],
   "source": [
    "import os\n",
    "\n",
    "os.environ['CUDA_LAUNCH_BLOCKING'] = '1'\n",
    "res_df_list = []\n",
    "for seed in tqdm(SEEDS):\n",
    "    slateq_dict = pickle.load(open(base_path / Path(f\"wp_slate_specialist_{seed}\")/ \"logs_dict.pickle\", \"rb\"))\n",
    "    res_df = parse_data(slateq_dict, \"SlateWP_Spec\", seed)\n",
    "    res_df_list.append(res_df)\n",
    "# concat all results\n",
    "slatewp_spec_df = pd.concat(res_df_list)\n",
    "final_df = pd.concat([final_df, slatewp_spec_df])"
   ]
  },
  {
   "cell_type": "code",
   "execution_count": 10,
   "metadata": {},
   "outputs": [
    {
     "name": "stderr",
     "output_type": "stream",
     "text": [
      "100%|██████████| 5/5 [00:00<00:00, 18.22it/s]\n"
     ]
    }
   ],
   "source": [
    "res_df_list = []\n",
    "device = torch.device('cpu')\n",
    "os.environ['CUDA_LAUNCH_BLOCKING'] = '0'\n",
    "for seed in tqdm(SEEDS):\n",
    "    slateq_dict = CPU_Unpickler(open(base_path / Path(f\"wp_slate_generalist_{seed}\")/ \"logs_dict.pickle\", \"rb\")).load()\n",
    "    res_df = parse_data(slateq_dict, \"SlateWP_Gen\", seed)\n",
    "    res_df_list.append(res_df)\n",
    "# concat all results\n",
    "slatewp_gen_df = pd.concat(res_df_list)\n",
    "final_df = pd.concat([final_df, slatewp_gen_df])"
   ]
  },
  {
   "cell_type": "code",
   "execution_count": 11,
   "metadata": {},
   "outputs": [
    {
     "name": "stderr",
     "output_type": "stream",
     "text": [
      "100%|██████████| 5/5 [00:00<00:00, 18.63it/s]\n"
     ]
    }
   ],
   "source": [
    "res_df_list = []\n",
    "for seed in tqdm(SEEDS):\n",
    "    slateq_dict = pickle.load(open(base_path / Path(f\"greedy_specialist_{seed}\")/ \"logs_dict.pickle\", \"rb\"))\n",
    "    res_df = parse_data(slateq_dict, \"Greedy_Spec\", seed)\n",
    "    res_df_list.append(res_df)\n",
    "# concat all results\n",
    "greedy_spec_df = pd.concat(res_df_list)\n",
    "final_df = pd.concat([final_df, greedy_spec_df])"
   ]
  },
  {
   "cell_type": "code",
   "execution_count": 12,
   "metadata": {},
   "outputs": [
    {
     "name": "stderr",
     "output_type": "stream",
     "text": [
      "100%|██████████| 5/5 [00:00<00:00, 12.68it/s]\n"
     ]
    }
   ],
   "source": [
    "res_df_list = []\n",
    "for seed in tqdm(SEEDS):\n",
    "    slateq_dict = pickle.load(open(base_path / Path(f\"greedy_generalist_{seed}\")/ \"logs_dict.pickle\", \"rb\"))\n",
    "    res_df = parse_data(slateq_dict, \"Greedy_Gen\", seed)\n",
    "    res_df_list.append(res_df)\n",
    "# concat all results\n",
    "greedy_gen_df = pd.concat(res_df_list)\n",
    "final_df = pd.concat([final_df, greedy_gen_df])"
   ]
  },
  {
   "cell_type": "code",
   "execution_count": 13,
   "metadata": {},
   "outputs": [
    {
     "data": {
      "text/html": [
       "<div>\n",
       "<style scoped>\n",
       "    .dataframe tbody tr th:only-of-type {\n",
       "        vertical-align: middle;\n",
       "    }\n",
       "\n",
       "    .dataframe tbody tr th {\n",
       "        vertical-align: top;\n",
       "    }\n",
       "\n",
       "    .dataframe thead th {\n",
       "        text-align: right;\n",
       "    }\n",
       "</style>\n",
       "<table border=\"1\" class=\"dataframe\">\n",
       "  <thead>\n",
       "    <tr style=\"text-align: right;\">\n",
       "      <th></th>\n",
       "      <th>episode</th>\n",
       "      <th>hit_documents</th>\n",
       "      <th>ep_cum_satisfaction</th>\n",
       "      <th>ep_avg_satisfaction</th>\n",
       "      <th>diverse_score</th>\n",
       "      <th>user_satisfaction</th>\n",
       "      <th>relevance</th>\n",
       "      <th>alg_name</th>\n",
       "      <th>seed</th>\n",
       "    </tr>\n",
       "  </thead>\n",
       "  <tbody>\n",
       "    <tr>\n",
       "      <th>0</th>\n",
       "      <td>0</td>\n",
       "      <td>0.000000</td>\n",
       "      <td>0.923530</td>\n",
       "      <td>0.461765</td>\n",
       "      <td>6</td>\n",
       "      <td>0.815647</td>\n",
       "      <td>0.748012</td>\n",
       "      <td>SlateQ_Gen</td>\n",
       "      <td>5</td>\n",
       "    </tr>\n",
       "    <tr>\n",
       "      <th>1</th>\n",
       "      <td>1</td>\n",
       "      <td>0.000000</td>\n",
       "      <td>0.782511</td>\n",
       "      <td>0.260837</td>\n",
       "      <td>7</td>\n",
       "      <td>0.970378</td>\n",
       "      <td>0.948471</td>\n",
       "      <td>SlateQ_Gen</td>\n",
       "      <td>5</td>\n",
       "    </tr>\n",
       "    <tr>\n",
       "      <th>2</th>\n",
       "      <td>2</td>\n",
       "      <td>0.000000</td>\n",
       "      <td>1.326244</td>\n",
       "      <td>0.331561</td>\n",
       "      <td>8</td>\n",
       "      <td>0.578357</td>\n",
       "      <td>0.579343</td>\n",
       "      <td>SlateQ_Gen</td>\n",
       "      <td>5</td>\n",
       "    </tr>\n",
       "    <tr>\n",
       "      <th>3</th>\n",
       "      <td>3</td>\n",
       "      <td>0.333333</td>\n",
       "      <td>0.887048</td>\n",
       "      <td>0.295683</td>\n",
       "      <td>6</td>\n",
       "      <td>0.992782</td>\n",
       "      <td>1.000000</td>\n",
       "      <td>SlateQ_Gen</td>\n",
       "      <td>5</td>\n",
       "    </tr>\n",
       "    <tr>\n",
       "      <th>4</th>\n",
       "      <td>4</td>\n",
       "      <td>0.000000</td>\n",
       "      <td>0.499515</td>\n",
       "      <td>0.249757</td>\n",
       "      <td>7</td>\n",
       "      <td>0.905194</td>\n",
       "      <td>0.901347</td>\n",
       "      <td>SlateQ_Gen</td>\n",
       "      <td>5</td>\n",
       "    </tr>\n",
       "    <tr>\n",
       "      <th>...</th>\n",
       "      <td>...</td>\n",
       "      <td>...</td>\n",
       "      <td>...</td>\n",
       "      <td>...</td>\n",
       "      <td>...</td>\n",
       "      <td>...</td>\n",
       "      <td>...</td>\n",
       "      <td>...</td>\n",
       "      <td>...</td>\n",
       "    </tr>\n",
       "    <tr>\n",
       "      <th>295</th>\n",
       "      <td>295</td>\n",
       "      <td>0.000000</td>\n",
       "      <td>0.861115</td>\n",
       "      <td>0.430557</td>\n",
       "      <td>5</td>\n",
       "      <td>0.936692</td>\n",
       "      <td>0.892076</td>\n",
       "      <td>Greedy_Gen</td>\n",
       "      <td>99</td>\n",
       "    </tr>\n",
       "    <tr>\n",
       "      <th>296</th>\n",
       "      <td>296</td>\n",
       "      <td>0.250000</td>\n",
       "      <td>1.279867</td>\n",
       "      <td>0.319967</td>\n",
       "      <td>5</td>\n",
       "      <td>0.897204</td>\n",
       "      <td>0.794945</td>\n",
       "      <td>Greedy_Gen</td>\n",
       "      <td>99</td>\n",
       "    </tr>\n",
       "    <tr>\n",
       "      <th>297</th>\n",
       "      <td>297</td>\n",
       "      <td>0.000000</td>\n",
       "      <td>0.568995</td>\n",
       "      <td>0.284497</td>\n",
       "      <td>4</td>\n",
       "      <td>0.942104</td>\n",
       "      <td>0.928786</td>\n",
       "      <td>Greedy_Gen</td>\n",
       "      <td>99</td>\n",
       "    </tr>\n",
       "    <tr>\n",
       "      <th>298</th>\n",
       "      <td>298</td>\n",
       "      <td>0.000000</td>\n",
       "      <td>1.803231</td>\n",
       "      <td>0.257604</td>\n",
       "      <td>3</td>\n",
       "      <td>0.954186</td>\n",
       "      <td>0.896401</td>\n",
       "      <td>Greedy_Gen</td>\n",
       "      <td>99</td>\n",
       "    </tr>\n",
       "    <tr>\n",
       "      <th>299</th>\n",
       "      <td>299</td>\n",
       "      <td>0.000000</td>\n",
       "      <td>0.020611</td>\n",
       "      <td>0.006870</td>\n",
       "      <td>7</td>\n",
       "      <td>0.961634</td>\n",
       "      <td>0.946697</td>\n",
       "      <td>Greedy_Gen</td>\n",
       "      <td>99</td>\n",
       "    </tr>\n",
       "  </tbody>\n",
       "</table>\n",
       "<p>9000 rows × 9 columns</p>\n",
       "</div>"
      ],
      "text/plain": [
       "     episode  hit_documents  ep_cum_satisfaction  ep_avg_satisfaction  \\\n",
       "0          0       0.000000             0.923530             0.461765   \n",
       "1          1       0.000000             0.782511             0.260837   \n",
       "2          2       0.000000             1.326244             0.331561   \n",
       "3          3       0.333333             0.887048             0.295683   \n",
       "4          4       0.000000             0.499515             0.249757   \n",
       "..       ...            ...                  ...                  ...   \n",
       "295      295       0.000000             0.861115             0.430557   \n",
       "296      296       0.250000             1.279867             0.319967   \n",
       "297      297       0.000000             0.568995             0.284497   \n",
       "298      298       0.000000             1.803231             0.257604   \n",
       "299      299       0.000000             0.020611             0.006870   \n",
       "\n",
       "     diverse_score  user_satisfaction  relevance    alg_name  seed  \n",
       "0                6           0.815647   0.748012  SlateQ_Gen     5  \n",
       "1                7           0.970378   0.948471  SlateQ_Gen     5  \n",
       "2                8           0.578357   0.579343  SlateQ_Gen     5  \n",
       "3                6           0.992782   1.000000  SlateQ_Gen     5  \n",
       "4                7           0.905194   0.901347  SlateQ_Gen     5  \n",
       "..             ...                ...        ...         ...   ...  \n",
       "295              5           0.936692   0.892076  Greedy_Gen    99  \n",
       "296              5           0.897204   0.794945  Greedy_Gen    99  \n",
       "297              4           0.942104   0.928786  Greedy_Gen    99  \n",
       "298              3           0.954186   0.896401  Greedy_Gen    99  \n",
       "299              7           0.961634   0.946697  Greedy_Gen    99  \n",
       "\n",
       "[9000 rows x 9 columns]"
      ]
     },
     "execution_count": 13,
     "metadata": {},
     "output_type": "execute_result"
    }
   ],
   "source": [
    "final_df"
   ]
  },
  {
   "cell_type": "code",
   "execution_count": 14,
   "metadata": {},
   "outputs": [
    {
     "data": {
      "text/html": [
       "<div>\n",
       "<style scoped>\n",
       "    .dataframe tbody tr th:only-of-type {\n",
       "        vertical-align: middle;\n",
       "    }\n",
       "\n",
       "    .dataframe tbody tr th {\n",
       "        vertical-align: top;\n",
       "    }\n",
       "\n",
       "    .dataframe thead th {\n",
       "        text-align: right;\n",
       "    }\n",
       "</style>\n",
       "<table border=\"1\" class=\"dataframe\">\n",
       "  <thead>\n",
       "    <tr style=\"text-align: right;\">\n",
       "      <th></th>\n",
       "      <th>episode</th>\n",
       "      <th>hit_documents</th>\n",
       "      <th>ep_cum_satisfaction</th>\n",
       "      <th>ep_avg_satisfaction</th>\n",
       "      <th>diverse_score</th>\n",
       "      <th>user_satisfaction</th>\n",
       "      <th>relevance</th>\n",
       "      <th>alg_name</th>\n",
       "      <th>seed</th>\n",
       "    </tr>\n",
       "  </thead>\n",
       "  <tbody>\n",
       "    <tr>\n",
       "      <th>0</th>\n",
       "      <td>0</td>\n",
       "      <td>0.000000</td>\n",
       "      <td>0.923530</td>\n",
       "      <td>0.461765</td>\n",
       "      <td>6</td>\n",
       "      <td>0.815647</td>\n",
       "      <td>0.748012</td>\n",
       "      <td>SlateQ_Gen</td>\n",
       "      <td>5</td>\n",
       "    </tr>\n",
       "    <tr>\n",
       "      <th>1</th>\n",
       "      <td>1</td>\n",
       "      <td>0.000000</td>\n",
       "      <td>0.782511</td>\n",
       "      <td>0.260837</td>\n",
       "      <td>7</td>\n",
       "      <td>0.970378</td>\n",
       "      <td>0.948471</td>\n",
       "      <td>SlateQ_Gen</td>\n",
       "      <td>5</td>\n",
       "    </tr>\n",
       "    <tr>\n",
       "      <th>2</th>\n",
       "      <td>2</td>\n",
       "      <td>0.000000</td>\n",
       "      <td>1.326244</td>\n",
       "      <td>0.331561</td>\n",
       "      <td>8</td>\n",
       "      <td>0.578357</td>\n",
       "      <td>0.579343</td>\n",
       "      <td>SlateQ_Gen</td>\n",
       "      <td>5</td>\n",
       "    </tr>\n",
       "    <tr>\n",
       "      <th>3</th>\n",
       "      <td>3</td>\n",
       "      <td>0.333333</td>\n",
       "      <td>0.887048</td>\n",
       "      <td>0.295683</td>\n",
       "      <td>6</td>\n",
       "      <td>0.992782</td>\n",
       "      <td>1.000000</td>\n",
       "      <td>SlateQ_Gen</td>\n",
       "      <td>5</td>\n",
       "    </tr>\n",
       "    <tr>\n",
       "      <th>4</th>\n",
       "      <td>4</td>\n",
       "      <td>0.000000</td>\n",
       "      <td>0.499515</td>\n",
       "      <td>0.249757</td>\n",
       "      <td>7</td>\n",
       "      <td>0.905194</td>\n",
       "      <td>0.901347</td>\n",
       "      <td>SlateQ_Gen</td>\n",
       "      <td>5</td>\n",
       "    </tr>\n",
       "    <tr>\n",
       "      <th>...</th>\n",
       "      <td>...</td>\n",
       "      <td>...</td>\n",
       "      <td>...</td>\n",
       "      <td>...</td>\n",
       "      <td>...</td>\n",
       "      <td>...</td>\n",
       "      <td>...</td>\n",
       "      <td>...</td>\n",
       "      <td>...</td>\n",
       "    </tr>\n",
       "    <tr>\n",
       "      <th>295</th>\n",
       "      <td>295</td>\n",
       "      <td>0.000000</td>\n",
       "      <td>0.861115</td>\n",
       "      <td>0.430557</td>\n",
       "      <td>5</td>\n",
       "      <td>0.936692</td>\n",
       "      <td>0.892076</td>\n",
       "      <td>Greedy_Gen</td>\n",
       "      <td>99</td>\n",
       "    </tr>\n",
       "    <tr>\n",
       "      <th>296</th>\n",
       "      <td>296</td>\n",
       "      <td>0.250000</td>\n",
       "      <td>1.279867</td>\n",
       "      <td>0.319967</td>\n",
       "      <td>5</td>\n",
       "      <td>0.897204</td>\n",
       "      <td>0.794945</td>\n",
       "      <td>Greedy_Gen</td>\n",
       "      <td>99</td>\n",
       "    </tr>\n",
       "    <tr>\n",
       "      <th>297</th>\n",
       "      <td>297</td>\n",
       "      <td>0.000000</td>\n",
       "      <td>0.568995</td>\n",
       "      <td>0.284497</td>\n",
       "      <td>4</td>\n",
       "      <td>0.942104</td>\n",
       "      <td>0.928786</td>\n",
       "      <td>Greedy_Gen</td>\n",
       "      <td>99</td>\n",
       "    </tr>\n",
       "    <tr>\n",
       "      <th>298</th>\n",
       "      <td>298</td>\n",
       "      <td>0.000000</td>\n",
       "      <td>1.803231</td>\n",
       "      <td>0.257604</td>\n",
       "      <td>3</td>\n",
       "      <td>0.954186</td>\n",
       "      <td>0.896401</td>\n",
       "      <td>Greedy_Gen</td>\n",
       "      <td>99</td>\n",
       "    </tr>\n",
       "    <tr>\n",
       "      <th>299</th>\n",
       "      <td>299</td>\n",
       "      <td>0.000000</td>\n",
       "      <td>0.020611</td>\n",
       "      <td>0.006870</td>\n",
       "      <td>7</td>\n",
       "      <td>0.961634</td>\n",
       "      <td>0.946697</td>\n",
       "      <td>Greedy_Gen</td>\n",
       "      <td>99</td>\n",
       "    </tr>\n",
       "  </tbody>\n",
       "</table>\n",
       "<p>9000 rows × 9 columns</p>\n",
       "</div>"
      ],
      "text/plain": [
       "     episode  hit_documents  ep_cum_satisfaction  ep_avg_satisfaction  \\\n",
       "0          0       0.000000             0.923530             0.461765   \n",
       "1          1       0.000000             0.782511             0.260837   \n",
       "2          2       0.000000             1.326244             0.331561   \n",
       "3          3       0.333333             0.887048             0.295683   \n",
       "4          4       0.000000             0.499515             0.249757   \n",
       "..       ...            ...                  ...                  ...   \n",
       "295      295       0.000000             0.861115             0.430557   \n",
       "296      296       0.250000             1.279867             0.319967   \n",
       "297      297       0.000000             0.568995             0.284497   \n",
       "298      298       0.000000             1.803231             0.257604   \n",
       "299      299       0.000000             0.020611             0.006870   \n",
       "\n",
       "     diverse_score  user_satisfaction  relevance    alg_name  seed  \n",
       "0                6           0.815647   0.748012  SlateQ_Gen     5  \n",
       "1                7           0.970378   0.948471  SlateQ_Gen     5  \n",
       "2                8           0.578357   0.579343  SlateQ_Gen     5  \n",
       "3                6           0.992782   1.000000  SlateQ_Gen     5  \n",
       "4                7           0.905194   0.901347  SlateQ_Gen     5  \n",
       "..             ...                ...        ...         ...   ...  \n",
       "295              5           0.936692   0.892076  Greedy_Gen    99  \n",
       "296              5           0.897204   0.794945  Greedy_Gen    99  \n",
       "297              4           0.942104   0.928786  Greedy_Gen    99  \n",
       "298              3           0.954186   0.896401  Greedy_Gen    99  \n",
       "299              7           0.961634   0.946697  Greedy_Gen    99  \n",
       "\n",
       "[9000 rows x 9 columns]"
      ]
     },
     "execution_count": 14,
     "metadata": {},
     "output_type": "execute_result"
    }
   ],
   "source": [
    "final_df"
   ]
  },
  {
   "cell_type": "code",
   "execution_count": 15,
   "metadata": {},
   "outputs": [],
   "source": [
    "final_df = final_df.reset_index(drop=True)"
   ]
  },
  {
   "cell_type": "code",
   "execution_count": 17,
   "metadata": {},
   "outputs": [
    {
     "data": {
      "image/png": "[encoded data removed]",
      "text/plain": [
       "<Figure size 425.073x276.297 with 1 Axes>"
      ]
     },
     "metadata": {},
     "output_type": "display_data"
    }
   ],
   "source": [
    "\n",
    "\n",
    "setup_plot(font_size=8, w_pts=256, fig_ratio=0.65)\n",
    "\n",
    "# Set the plot style to \"ticks\"\n",
    "# sns.set_style(\"whitegrid\", {\"grid.linestyle\": \"--\", \"axes.edgecolor\": \"black\"})\n",
    "\n",
    "grouped = final_df.groupby('alg_name')\n",
    "# ax = sns.histplot(x=\"user_satisfaction\", hue=\"alg_name\", bins=30, data=final_df, kde=False)\n",
    "# legend_entries = []\n",
    "\n",
    "# for alg_name in final_df['alg_name'].unique():\n",
    "#     legend_entries.append(plt.Line2D([0], [0], color=ax.get_legend_handles_labels()[1][list(final_df['alg_name'].unique()).index(alg_name)], lw=2, label=alg_name))\n",
    "\n",
    "# Plotting histograms and normal distribution fits for each category\n",
    "for category, group in grouped:\n",
    "    if 'Spec' in category:\n",
    "        values = group['ep_avg_satisfaction']\n",
    "        plt.hist(values, bins=60, density=True, alpha=0.9, label=category)\n",
    "    \n",
    "    # mu, std = norm.fit(values)\n",
    "    # xmin, xmax = plt.xlim()\n",
    "    # x = np.linspace(xmin, xmax, 100)\n",
    "    # p = norm.pdf(x, mu, std)\n",
    "    # plt.plot(x, p, linewidth=2, label=f'{category} fit')\n",
    "\n",
    "# Adding legend\n",
    "plt.legend()\n",
    "# legend=plt.legend(handles=legend_entries,title='', fancybox=False)\n",
    "# fmt = mtick.ScalarFormatter(useMathText=True)\n",
    "# fmt.set_powerlimits((-3,3))\n",
    "# ax.xaxis.set_major_formatter(fmt)\n",
    "\n",
    "# Adding labels and title\n",
    "plt.title(\"Histograms with respect to algorithm\")\n",
    "plt.xlabel(\"Values\")\n",
    "plt.ylabel(\"Frequency\", labelpad=0)\n",
    "\n",
    "plt.show()"
   ]
  },
  {
   "cell_type": "code",
   "execution_count": 18,
   "metadata": {},
   "outputs": [
    {
     "data": {
      "image/png": "[encoded data removed]",
      "text/plain": [
       "<Figure size 425.073x276.297 with 1 Axes>"
      ]
     },
     "metadata": {},
     "output_type": "display_data"
    }
   ],
   "source": [
    "\n",
    "setup_plot(font_size=8, w_pts=256, fig_ratio=0.65)\n",
    "\n",
    "# Set the plot style to \"ticks\"\n",
    "# sns.set_style(\"whitegrid\", {\"grid.linestyle\": \"--\", \"axes.edgecolor\": \"black\"})\n",
    "\n",
    "grouped = final_df.groupby('alg_name')\n",
    "# ax = sns.histplot(x=\"user_satisfaction\", hue=\"alg_name\", bins=30, data=final_df, kde=False)\n",
    "# legend_entries = []\n",
    "\n",
    "# for alg_name in final_df['alg_name'].unique():\n",
    "#     legend_entries.append(plt.Line2D([0], [0], color=ax.get_legend_handles_labels()[1][list(final_df['alg_name'].unique()).index(alg_name)], lw=2, label=alg_name))\n",
    "\n",
    "# Plotting histograms and normal distribution fits for each category\n",
    "for category, group in grouped:\n",
    "    if 'Gen' in category:\n",
    "        values = group['ep_avg_satisfaction']\n",
    "        plt.hist(values, bins=60, density=True, alpha=0.9, label=category)\n",
    "    \n",
    "    # mu, std = norm.fit(values)\n",
    "    # xmin, xmax = plt.xlim()\n",
    "    # x = np.linspace(xmin, xmax, 100)\n",
    "    # p = norm.pdf(x, mu, std)\n",
    "    # plt.plot(x, p, linewidth=2, label=f'{category} fit')\n",
    "\n",
    "# Adding legend\n",
    "plt.legend()\n",
    "# legend=plt.legend(handles=legend_entries,title='', fancybox=False)\n",
    "# fmt = mtick.ScalarFormatter(useMathText=True)\n",
    "# fmt.set_powerlimits((-3,3))\n",
    "# ax.xaxis.set_major_formatter(fmt)\n",
    "\n",
    "# Adding labels and title\n",
    "plt.title(\"Histograms with respect to algorithm\")\n",
    "plt.xlabel(\"Values\")\n",
    "plt.ylabel(\"Frequency\", labelpad=0)\n",
    "\n",
    "plt.show()"
   ]
  },
  {
   "cell_type": "code",
   "execution_count": null,
   "metadata": {},
   "outputs": [],
   "source": []
  },
  {
   "cell_type": "code",
   "execution_count": null,
   "metadata": {},
   "outputs": [],
   "source": []
  },
  {
   "cell_type": "code",
   "execution_count": null,
   "metadata": {},
   "outputs": [],
   "source": []
  },
  {
   "cell_type": "code",
   "execution_count": null,
   "metadata": {},
   "outputs": [],
   "source": []
  }
 ],
 "metadata": {
  "kernelspec": {
   "display_name": ".venv",
   "language": "python",
   "name": "python3"
  },
  "language_info": {
   "codemirror_mode": {
    "name": "ipython",
    "version": 3
   },
   "file_extension": ".py",
   "mimetype": "text/x-python",
   "name": "python",
   "nbconvert_exporter": "python",
   "pygments_lexer": "ipython3",
   "version": "3.11.6"
  }
 },
 "nbformat": 4,
 "nbformat_minor": 2
}
