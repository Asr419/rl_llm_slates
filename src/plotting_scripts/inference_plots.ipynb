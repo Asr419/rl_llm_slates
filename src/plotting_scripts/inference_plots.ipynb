{
 "cells": [
  {
   "cell_type": "code",
   "execution_count": 1,
   "metadata": {},
   "outputs": [
    {
     "name": "stderr",
     "output_type": "stream",
     "text": [
      "/home/aayush/rl_mind_dataset/.venv/lib/python3.11/site-packages/tqdm/auto.py:21: TqdmWarning: IProgress not found. Please update jupyter and ipywidgets. See https://ipywidgets.readthedocs.io/en/stable/user_install.html\n",
      "  from .autonotebook import tqdm as notebook_tqdm\n"
     ]
    }
   ],
   "source": [
    "import os \n",
    "from pathlib import Path\n",
    "from dotenv import load_dotenv\n",
    "import pickle\n",
    "import pandas as pd\n",
    "import numpy as np\n",
    "import torch\n",
    "from tqdm import tqdm\n",
    "import seaborn as sns\n",
    "import matplotlib.pyplot as plt\n",
    "from scipy.stats import norm\n",
    "from setup_plot import setup_plot\n",
    "import matplotlib.ticker as mtick"
   ]
  },
  {
   "cell_type": "code",
   "execution_count": 2,
   "metadata": {},
   "outputs": [
    {
     "data": {
      "text/plain": [
       "True"
      ]
     },
     "execution_count": 2,
     "metadata": {},
     "output_type": "execute_result"
    }
   ],
   "source": [
    "load_dotenv()"
   ]
  },
  {
   "cell_type": "code",
   "execution_count": 3,
   "metadata": {},
   "outputs": [],
   "source": [
    "base_path = Path.home()/Path(os.environ.get(\"TEST_PATH\"))"
   ]
  },
  {
   "cell_type": "code",
   "execution_count": 4,
   "metadata": {},
   "outputs": [],
   "source": [
    "SEEDS = [1, 3, 7, 9]\n",
    "window = 100"
   ]
  },
  {
   "cell_type": "code",
   "execution_count": 5,
   "metadata": {},
   "outputs": [],
   "source": [
    "def parse_data(data_dict: dict, alg_nam:str, seed: int)->pd.DataFrame:\n",
    "    # convert from torch to float\n",
    "    for k, v in data_dict.items():\n",
    "        if isinstance(v, torch.Tensor):\n",
    "            data_dict[k] = v.item()\n",
    "        elif isinstance(v, list):\n",
    "            if isinstance(v[0], torch.Tensor):\n",
    "                data_dict[k] = [x.item() for x in v]\n",
    "    data_df = pd.DataFrame(data_dict)\n",
    "    data_df[\"alg_name\"] = alg_nam\n",
    "    data_df[\"seed\"] = seed\n",
    "    data_df = data_df.reset_index().rename(columns={\"index\": \"episode\"})\n",
    "    return data_df"
   ]
  },
  {
   "cell_type": "code",
   "execution_count": 6,
   "metadata": {},
   "outputs": [
    {
     "name": "stderr",
     "output_type": "stream",
     "text": [
      "100%|██████████| 4/4 [00:02<00:00,  1.58it/s]\n"
     ]
    }
   ],
   "source": [
    "res_df_list = []\n",
    "for seed in tqdm(SEEDS):\n",
    "    slateq_dict = pickle.load(open(base_path / Path(f\"slateq_generalist_{seed}\")/ \"logs_dict.pickle\", \"rb\"))\n",
    "    res_df = parse_data(slateq_dict, \"SlateQ_Gen\", seed)\n",
    "    res_df_list.append(res_df)\n",
    "# concat all results\n",
    "final_df = pd.concat(res_df_list)"
   ]
  },
  {
   "cell_type": "code",
   "execution_count": 7,
   "metadata": {},
   "outputs": [
    {
     "name": "stderr",
     "output_type": "stream",
     "text": [
      "100%|██████████| 4/4 [00:01<00:00,  3.11it/s]\n"
     ]
    }
   ],
   "source": [
    "res_df_list = []\n",
    "for seed in tqdm(SEEDS):\n",
    "    slateq_dict = pickle.load(open(base_path / Path(f\"slateq_specialist_{seed}\")/ \"logs_dict.pickle\", \"rb\"))\n",
    "    res_df = parse_data(slateq_dict, \"SlateQ_Spec\", seed)\n",
    "    res_df_list.append(res_df)\n",
    "# concat all results\n",
    "slateq_spec_df = pd.concat(res_df_list)\n",
    "final_df = pd.concat([final_df, slateq_spec_df])"
   ]
  },
  {
   "cell_type": "code",
   "execution_count": 8,
   "metadata": {},
   "outputs": [
    {
     "name": "stderr",
     "output_type": "stream",
     "text": [
      "100%|██████████| 4/4 [00:01<00:00,  3.63it/s]\n"
     ]
    }
   ],
   "source": [
    "res_df_list = []\n",
    "for seed in tqdm(SEEDS):\n",
    "    slateq_dict = pickle.load(open(base_path / Path(f\"slateq_specialist_{seed}\")/ \"logs_dict.pickle\", \"rb\"))\n",
    "    res_df = parse_data(slateq_dict, \"SlateQ_Spec\", seed)\n",
    "    res_df_list.append(res_df)\n",
    "# concat all results\n",
    "slateq_spec_df = pd.concat(res_df_list)\n",
    "final_df = pd.concat([final_df, slateq_spec_df])"
   ]
  },
  {
   "cell_type": "code",
   "execution_count": 9,
   "metadata": {},
   "outputs": [
    {
     "name": "stderr",
     "output_type": "stream",
     "text": [
      "100%|██████████| 4/4 [00:01<00:00,  3.21it/s]\n"
     ]
    }
   ],
   "source": [
    "res_df_list = []\n",
    "for seed in tqdm(SEEDS):\n",
    "    slateq_dict = pickle.load(open(base_path / Path(f\"wp_slate_specialist_{seed}\")/ \"logs_dict.pickle\", \"rb\"))\n",
    "    res_df = parse_data(slateq_dict, \"SlateWP_Spec\", seed)\n",
    "    res_df_list.append(res_df)\n",
    "# concat all results\n",
    "slatewp_spec_df = pd.concat(res_df_list)\n",
    "final_df = pd.concat([final_df, slatewp_spec_df])"
   ]
  },
  {
   "cell_type": "code",
   "execution_count": 10,
   "metadata": {},
   "outputs": [
    {
     "name": "stderr",
     "output_type": "stream",
     "text": [
      "100%|██████████| 4/4 [00:01<00:00,  3.19it/s]\n"
     ]
    }
   ],
   "source": [
    "res_df_list = []\n",
    "for seed in tqdm(SEEDS):\n",
    "    slateq_dict = pickle.load(open(base_path / Path(f\"wp_slate_generalist_{seed}\")/ \"logs_dict.pickle\", \"rb\"))\n",
    "    res_df = parse_data(slateq_dict, \"SlateWP_Gen\", seed)\n",
    "    res_df_list.append(res_df)\n",
    "# concat all results\n",
    "slatewp_gen_df = pd.concat(res_df_list)\n",
    "final_df = pd.concat([final_df, slatewp_gen_df])"
   ]
  },
  {
   "cell_type": "code",
   "execution_count": 11,
   "metadata": {},
   "outputs": [
    {
     "name": "stderr",
     "output_type": "stream",
     "text": [
      "100%|██████████| 4/4 [00:01<00:00,  3.73it/s]\n"
     ]
    }
   ],
   "source": [
    "res_df_list = []\n",
    "for seed in tqdm(SEEDS):\n",
    "    slateq_dict = pickle.load(open(base_path / Path(f\"greedy_specialist_{seed}\")/ \"logs_dict.pickle\", \"rb\"))\n",
    "    res_df = parse_data(slateq_dict, \"Greedy_Spec\", seed)\n",
    "    res_df_list.append(res_df)\n",
    "# concat all results\n",
    "greedy_spec_df = pd.concat(res_df_list)\n",
    "final_df = pd.concat([final_df, greedy_spec_df])"
   ]
  },
  {
   "cell_type": "code",
   "execution_count": 12,
   "metadata": {},
   "outputs": [
    {
     "name": "stderr",
     "output_type": "stream",
     "text": [
      "100%|██████████| 4/4 [00:01<00:00,  3.12it/s]\n"
     ]
    }
   ],
   "source": [
    "res_df_list = []\n",
    "for seed in tqdm(SEEDS):\n",
    "    slateq_dict = pickle.load(open(base_path / Path(f\"greedy_generalist_{seed}\")/ \"logs_dict.pickle\", \"rb\"))\n",
    "    res_df = parse_data(slateq_dict, \"Greedy_Gen\", seed)\n",
    "    res_df_list.append(res_df)\n",
    "# concat all results\n",
    "greedy_gen_df = pd.concat(res_df_list)\n",
    "final_df = pd.concat([final_df, greedy_gen_df])"
   ]
  },
  {
   "cell_type": "code",
   "execution_count": 13,
   "metadata": {},
   "outputs": [
    {
     "data": {
      "text/html": [
       "<div>\n",
       "<style scoped>\n",
       "    .dataframe tbody tr th:only-of-type {\n",
       "        vertical-align: middle;\n",
       "    }\n",
       "\n",
       "    .dataframe tbody tr th {\n",
       "        vertical-align: top;\n",
       "    }\n",
       "\n",
       "    .dataframe thead th {\n",
       "        text-align: right;\n",
       "    }\n",
       "</style>\n",
       "<table border=\"1\" class=\"dataframe\">\n",
       "  <thead>\n",
       "    <tr style=\"text-align: right;\">\n",
       "      <th></th>\n",
       "      <th>episode</th>\n",
       "      <th>hit_documents</th>\n",
       "      <th>ep_cum_satisfaction</th>\n",
       "      <th>ep_avg_satisfaction</th>\n",
       "      <th>diverse_score</th>\n",
       "      <th>user_satisfaction</th>\n",
       "      <th>relevance</th>\n",
       "      <th>alg_name</th>\n",
       "      <th>seed</th>\n",
       "    </tr>\n",
       "  </thead>\n",
       "  <tbody>\n",
       "    <tr>\n",
       "      <th>0</th>\n",
       "      <td>0</td>\n",
       "      <td>0.333333</td>\n",
       "      <td>2.240666</td>\n",
       "      <td>0.746889</td>\n",
       "      <td>5</td>\n",
       "      <td>0.934161</td>\n",
       "      <td>0.903118</td>\n",
       "      <td>SlateQ_Gen</td>\n",
       "      <td>1</td>\n",
       "    </tr>\n",
       "    <tr>\n",
       "      <th>1</th>\n",
       "      <td>1</td>\n",
       "      <td>0.500000</td>\n",
       "      <td>1.580026</td>\n",
       "      <td>0.790013</td>\n",
       "      <td>7</td>\n",
       "      <td>0.933813</td>\n",
       "      <td>0.896881</td>\n",
       "      <td>SlateQ_Gen</td>\n",
       "      <td>1</td>\n",
       "    </tr>\n",
       "    <tr>\n",
       "      <th>2</th>\n",
       "      <td>2</td>\n",
       "      <td>0.666667</td>\n",
       "      <td>2.191263</td>\n",
       "      <td>0.730421</td>\n",
       "      <td>7</td>\n",
       "      <td>0.985698</td>\n",
       "      <td>1.000000</td>\n",
       "      <td>SlateQ_Gen</td>\n",
       "      <td>1</td>\n",
       "    </tr>\n",
       "    <tr>\n",
       "      <th>3</th>\n",
       "      <td>3</td>\n",
       "      <td>1.000000</td>\n",
       "      <td>2.511098</td>\n",
       "      <td>0.837033</td>\n",
       "      <td>5</td>\n",
       "      <td>0.956170</td>\n",
       "      <td>1.000000</td>\n",
       "      <td>SlateQ_Gen</td>\n",
       "      <td>1</td>\n",
       "    </tr>\n",
       "    <tr>\n",
       "      <th>4</th>\n",
       "      <td>4</td>\n",
       "      <td>0.250000</td>\n",
       "      <td>3.040608</td>\n",
       "      <td>0.760152</td>\n",
       "      <td>6</td>\n",
       "      <td>0.965305</td>\n",
       "      <td>0.926073</td>\n",
       "      <td>SlateQ_Gen</td>\n",
       "      <td>1</td>\n",
       "    </tr>\n",
       "    <tr>\n",
       "      <th>...</th>\n",
       "      <td>...</td>\n",
       "      <td>...</td>\n",
       "      <td>...</td>\n",
       "      <td>...</td>\n",
       "      <td>...</td>\n",
       "      <td>...</td>\n",
       "      <td>...</td>\n",
       "      <td>...</td>\n",
       "      <td>...</td>\n",
       "    </tr>\n",
       "    <tr>\n",
       "      <th>495</th>\n",
       "      <td>495</td>\n",
       "      <td>0.750000</td>\n",
       "      <td>3.442680</td>\n",
       "      <td>0.860670</td>\n",
       "      <td>7</td>\n",
       "      <td>0.958776</td>\n",
       "      <td>1.000000</td>\n",
       "      <td>Greedy_Gen</td>\n",
       "      <td>9</td>\n",
       "    </tr>\n",
       "    <tr>\n",
       "      <th>496</th>\n",
       "      <td>496</td>\n",
       "      <td>0.000000</td>\n",
       "      <td>2.091931</td>\n",
       "      <td>0.697310</td>\n",
       "      <td>6</td>\n",
       "      <td>0.949323</td>\n",
       "      <td>0.926827</td>\n",
       "      <td>Greedy_Gen</td>\n",
       "      <td>9</td>\n",
       "    </tr>\n",
       "    <tr>\n",
       "      <th>497</th>\n",
       "      <td>497</td>\n",
       "      <td>0.117647</td>\n",
       "      <td>12.970243</td>\n",
       "      <td>0.762955</td>\n",
       "      <td>8</td>\n",
       "      <td>0.847206</td>\n",
       "      <td>0.823400</td>\n",
       "      <td>Greedy_Gen</td>\n",
       "      <td>9</td>\n",
       "    </tr>\n",
       "    <tr>\n",
       "      <th>498</th>\n",
       "      <td>498</td>\n",
       "      <td>0.333333</td>\n",
       "      <td>7.266874</td>\n",
       "      <td>0.807431</td>\n",
       "      <td>7</td>\n",
       "      <td>0.979848</td>\n",
       "      <td>1.000000</td>\n",
       "      <td>Greedy_Gen</td>\n",
       "      <td>9</td>\n",
       "    </tr>\n",
       "    <tr>\n",
       "      <th>499</th>\n",
       "      <td>499</td>\n",
       "      <td>0.000000</td>\n",
       "      <td>2.158337</td>\n",
       "      <td>0.719446</td>\n",
       "      <td>5</td>\n",
       "      <td>0.918339</td>\n",
       "      <td>0.782824</td>\n",
       "      <td>Greedy_Gen</td>\n",
       "      <td>9</td>\n",
       "    </tr>\n",
       "  </tbody>\n",
       "</table>\n",
       "<p>14000 rows × 9 columns</p>\n",
       "</div>"
      ],
      "text/plain": [
       "     episode  hit_documents  ep_cum_satisfaction  ep_avg_satisfaction  \\\n",
       "0          0       0.333333             2.240666             0.746889   \n",
       "1          1       0.500000             1.580026             0.790013   \n",
       "2          2       0.666667             2.191263             0.730421   \n",
       "3          3       1.000000             2.511098             0.837033   \n",
       "4          4       0.250000             3.040608             0.760152   \n",
       "..       ...            ...                  ...                  ...   \n",
       "495      495       0.750000             3.442680             0.860670   \n",
       "496      496       0.000000             2.091931             0.697310   \n",
       "497      497       0.117647            12.970243             0.762955   \n",
       "498      498       0.333333             7.266874             0.807431   \n",
       "499      499       0.000000             2.158337             0.719446   \n",
       "\n",
       "     diverse_score  user_satisfaction  relevance    alg_name  seed  \n",
       "0                5           0.934161   0.903118  SlateQ_Gen     1  \n",
       "1                7           0.933813   0.896881  SlateQ_Gen     1  \n",
       "2                7           0.985698   1.000000  SlateQ_Gen     1  \n",
       "3                5           0.956170   1.000000  SlateQ_Gen     1  \n",
       "4                6           0.965305   0.926073  SlateQ_Gen     1  \n",
       "..             ...                ...        ...         ...   ...  \n",
       "495              7           0.958776   1.000000  Greedy_Gen     9  \n",
       "496              6           0.949323   0.926827  Greedy_Gen     9  \n",
       "497              8           0.847206   0.823400  Greedy_Gen     9  \n",
       "498              7           0.979848   1.000000  Greedy_Gen     9  \n",
       "499              5           0.918339   0.782824  Greedy_Gen     9  \n",
       "\n",
       "[14000 rows x 9 columns]"
      ]
     },
     "execution_count": 13,
     "metadata": {},
     "output_type": "execute_result"
    }
   ],
   "source": [
    "final_df"
   ]
  },
  {
   "cell_type": "code",
   "execution_count": 14,
   "metadata": {},
   "outputs": [
    {
     "data": {
      "text/html": [
       "<div>\n",
       "<style scoped>\n",
       "    .dataframe tbody tr th:only-of-type {\n",
       "        vertical-align: middle;\n",
       "    }\n",
       "\n",
       "    .dataframe tbody tr th {\n",
       "        vertical-align: top;\n",
       "    }\n",
       "\n",
       "    .dataframe thead th {\n",
       "        text-align: right;\n",
       "    }\n",
       "</style>\n",
       "<table border=\"1\" class=\"dataframe\">\n",
       "  <thead>\n",
       "    <tr style=\"text-align: right;\">\n",
       "      <th></th>\n",
       "      <th>episode</th>\n",
       "      <th>hit_documents</th>\n",
       "      <th>ep_cum_satisfaction</th>\n",
       "      <th>ep_avg_satisfaction</th>\n",
       "      <th>diverse_score</th>\n",
       "      <th>user_satisfaction</th>\n",
       "      <th>relevance</th>\n",
       "      <th>alg_name</th>\n",
       "      <th>seed</th>\n",
       "    </tr>\n",
       "  </thead>\n",
       "  <tbody>\n",
       "    <tr>\n",
       "      <th>0</th>\n",
       "      <td>0</td>\n",
       "      <td>0.333333</td>\n",
       "      <td>2.240666</td>\n",
       "      <td>0.746889</td>\n",
       "      <td>5</td>\n",
       "      <td>0.934161</td>\n",
       "      <td>0.903118</td>\n",
       "      <td>SlateQ_Gen</td>\n",
       "      <td>1</td>\n",
       "    </tr>\n",
       "    <tr>\n",
       "      <th>1</th>\n",
       "      <td>1</td>\n",
       "      <td>0.500000</td>\n",
       "      <td>1.580026</td>\n",
       "      <td>0.790013</td>\n",
       "      <td>7</td>\n",
       "      <td>0.933813</td>\n",
       "      <td>0.896881</td>\n",
       "      <td>SlateQ_Gen</td>\n",
       "      <td>1</td>\n",
       "    </tr>\n",
       "    <tr>\n",
       "      <th>2</th>\n",
       "      <td>2</td>\n",
       "      <td>0.666667</td>\n",
       "      <td>2.191263</td>\n",
       "      <td>0.730421</td>\n",
       "      <td>7</td>\n",
       "      <td>0.985698</td>\n",
       "      <td>1.000000</td>\n",
       "      <td>SlateQ_Gen</td>\n",
       "      <td>1</td>\n",
       "    </tr>\n",
       "    <tr>\n",
       "      <th>3</th>\n",
       "      <td>3</td>\n",
       "      <td>1.000000</td>\n",
       "      <td>2.511098</td>\n",
       "      <td>0.837033</td>\n",
       "      <td>5</td>\n",
       "      <td>0.956170</td>\n",
       "      <td>1.000000</td>\n",
       "      <td>SlateQ_Gen</td>\n",
       "      <td>1</td>\n",
       "    </tr>\n",
       "    <tr>\n",
       "      <th>4</th>\n",
       "      <td>4</td>\n",
       "      <td>0.250000</td>\n",
       "      <td>3.040608</td>\n",
       "      <td>0.760152</td>\n",
       "      <td>6</td>\n",
       "      <td>0.965305</td>\n",
       "      <td>0.926073</td>\n",
       "      <td>SlateQ_Gen</td>\n",
       "      <td>1</td>\n",
       "    </tr>\n",
       "    <tr>\n",
       "      <th>...</th>\n",
       "      <td>...</td>\n",
       "      <td>...</td>\n",
       "      <td>...</td>\n",
       "      <td>...</td>\n",
       "      <td>...</td>\n",
       "      <td>...</td>\n",
       "      <td>...</td>\n",
       "      <td>...</td>\n",
       "      <td>...</td>\n",
       "    </tr>\n",
       "    <tr>\n",
       "      <th>495</th>\n",
       "      <td>495</td>\n",
       "      <td>0.750000</td>\n",
       "      <td>3.442680</td>\n",
       "      <td>0.860670</td>\n",
       "      <td>7</td>\n",
       "      <td>0.958776</td>\n",
       "      <td>1.000000</td>\n",
       "      <td>Greedy_Gen</td>\n",
       "      <td>9</td>\n",
       "    </tr>\n",
       "    <tr>\n",
       "      <th>496</th>\n",
       "      <td>496</td>\n",
       "      <td>0.000000</td>\n",
       "      <td>2.091931</td>\n",
       "      <td>0.697310</td>\n",
       "      <td>6</td>\n",
       "      <td>0.949323</td>\n",
       "      <td>0.926827</td>\n",
       "      <td>Greedy_Gen</td>\n",
       "      <td>9</td>\n",
       "    </tr>\n",
       "    <tr>\n",
       "      <th>497</th>\n",
       "      <td>497</td>\n",
       "      <td>0.117647</td>\n",
       "      <td>12.970243</td>\n",
       "      <td>0.762955</td>\n",
       "      <td>8</td>\n",
       "      <td>0.847206</td>\n",
       "      <td>0.823400</td>\n",
       "      <td>Greedy_Gen</td>\n",
       "      <td>9</td>\n",
       "    </tr>\n",
       "    <tr>\n",
       "      <th>498</th>\n",
       "      <td>498</td>\n",
       "      <td>0.333333</td>\n",
       "      <td>7.266874</td>\n",
       "      <td>0.807431</td>\n",
       "      <td>7</td>\n",
       "      <td>0.979848</td>\n",
       "      <td>1.000000</td>\n",
       "      <td>Greedy_Gen</td>\n",
       "      <td>9</td>\n",
       "    </tr>\n",
       "    <tr>\n",
       "      <th>499</th>\n",
       "      <td>499</td>\n",
       "      <td>0.000000</td>\n",
       "      <td>2.158337</td>\n",
       "      <td>0.719446</td>\n",
       "      <td>5</td>\n",
       "      <td>0.918339</td>\n",
       "      <td>0.782824</td>\n",
       "      <td>Greedy_Gen</td>\n",
       "      <td>9</td>\n",
       "    </tr>\n",
       "  </tbody>\n",
       "</table>\n",
       "<p>14000 rows × 9 columns</p>\n",
       "</div>"
      ],
      "text/plain": [
       "     episode  hit_documents  ep_cum_satisfaction  ep_avg_satisfaction  \\\n",
       "0          0       0.333333             2.240666             0.746889   \n",
       "1          1       0.500000             1.580026             0.790013   \n",
       "2          2       0.666667             2.191263             0.730421   \n",
       "3          3       1.000000             2.511098             0.837033   \n",
       "4          4       0.250000             3.040608             0.760152   \n",
       "..       ...            ...                  ...                  ...   \n",
       "495      495       0.750000             3.442680             0.860670   \n",
       "496      496       0.000000             2.091931             0.697310   \n",
       "497      497       0.117647            12.970243             0.762955   \n",
       "498      498       0.333333             7.266874             0.807431   \n",
       "499      499       0.000000             2.158337             0.719446   \n",
       "\n",
       "     diverse_score  user_satisfaction  relevance    alg_name  seed  \n",
       "0                5           0.934161   0.903118  SlateQ_Gen     1  \n",
       "1                7           0.933813   0.896881  SlateQ_Gen     1  \n",
       "2                7           0.985698   1.000000  SlateQ_Gen     1  \n",
       "3                5           0.956170   1.000000  SlateQ_Gen     1  \n",
       "4                6           0.965305   0.926073  SlateQ_Gen     1  \n",
       "..             ...                ...        ...         ...   ...  \n",
       "495              7           0.958776   1.000000  Greedy_Gen     9  \n",
       "496              6           0.949323   0.926827  Greedy_Gen     9  \n",
       "497              8           0.847206   0.823400  Greedy_Gen     9  \n",
       "498              7           0.979848   1.000000  Greedy_Gen     9  \n",
       "499              5           0.918339   0.782824  Greedy_Gen     9  \n",
       "\n",
       "[14000 rows x 9 columns]"
      ]
     },
     "execution_count": 14,
     "metadata": {},
     "output_type": "execute_result"
    }
   ],
   "source": [
    "final_df"
   ]
  },
  {
   "cell_type": "code",
   "execution_count": 15,
   "metadata": {},
   "outputs": [],
   "source": [
    "final_df = final_df.reset_index(drop=True)"
   ]
  },
  {
   "cell_type": "code",
   "execution_count": 17,
   "metadata": {},
   "outputs": [
    {
     "data": {
      "image/png": "[encoded data removed]",
      "text/plain": [
       "<Figure size 425.073x276.297 with 1 Axes>"
      ]
     },
     "metadata": {},
     "output_type": "display_data"
    }
   ],
   "source": [
    "\n",
    "\n",
    "setup_plot(font_size=8, w_pts=256, fig_ratio=0.65)\n",
    "\n",
    "# Set the plot style to \"ticks\"\n",
    "# sns.set_style(\"whitegrid\", {\"grid.linestyle\": \"--\", \"axes.edgecolor\": \"black\"})\n",
    "\n",
    "grouped = final_df.groupby('alg_name')\n",
    "# ax = sns.histplot(x=\"user_satisfaction\", hue=\"alg_name\", bins=30, data=final_df, kde=False)\n",
    "# legend_entries = []\n",
    "\n",
    "# for alg_name in final_df['alg_name'].unique():\n",
    "#     legend_entries.append(plt.Line2D([0], [0], color=ax.get_legend_handles_labels()[1][list(final_df['alg_name'].unique()).index(alg_name)], lw=2, label=alg_name))\n",
    "\n",
    "# Plotting histograms and normal distribution fits for each category\n",
    "for category, group in grouped:\n",
    "    if 'Gen' in category:\n",
    "        values = group['user_satisfaction']\n",
    "        plt.hist(values, bins=30, density=True, alpha=0.9, label=category)\n",
    "    \n",
    "    # mu, std = norm.fit(values)\n",
    "    # xmin, xmax = plt.xlim()\n",
    "    # x = np.linspace(xmin, xmax, 100)\n",
    "    # p = norm.pdf(x, mu, std)\n",
    "    # plt.plot(x, p, linewidth=2, label=f'{category} fit')\n",
    "\n",
    "# Adding legend\n",
    "plt.legend()\n",
    "# legend=plt.legend(handles=legend_entries,title='', fancybox=False)\n",
    "# fmt = mtick.ScalarFormatter(useMathText=True)\n",
    "# fmt.set_powerlimits((-3,3))\n",
    "# ax.xaxis.set_major_formatter(fmt)\n",
    "\n",
    "# Adding labels and title\n",
    "plt.title(\"Histograms with respect to algorithm\")\n",
    "plt.xlabel(\"Values\")\n",
    "plt.ylabel(\"Frequency\", labelpad=0)\n",
    "\n",
    "plt.show()"
   ]
  },
  {
   "cell_type": "code",
   "execution_count": null,
   "metadata": {},
   "outputs": [],
   "source": []
  }
 ],
 "metadata": {
  "kernelspec": {
   "display_name": ".venv",
   "language": "python",
   "name": "python3"
  },
  "language_info": {
   "codemirror_mode": {
    "name": "ipython",
    "version": 3
   },
   "file_extension": ".py",
   "mimetype": "text/x-python",
   "name": "python",
   "nbconvert_exporter": "python",
   "pygments_lexer": "ipython3",
   "version": "3.11.6"
  }
 },
 "nbformat": 4,
 "nbformat_minor": 2
}
